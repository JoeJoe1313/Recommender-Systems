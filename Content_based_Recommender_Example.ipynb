{
  "nbformat": 4,
  "nbformat_minor": 0,
  "metadata": {
    "colab": {
      "name": "Content_based_Recommender_Example.ipynb",
      "provenance": [],
      "collapsed_sections": [],
      "toc_visible": true,
      "include_colab_link": true
    },
    "kernelspec": {
      "name": "python3",
      "display_name": "Python 3"
    }
  },
  "cells": [
    {
      "cell_type": "markdown",
      "metadata": {
        "id": "view-in-github",
        "colab_type": "text"
      },
      "source": [
        "<a href=\"https://colab.research.google.com/github/JoeJoe1313/Recommender-Systems/blob/master/Content_based_Recommender_Example.ipynb\" target=\"_parent\"><img src=\"https://colab.research.google.com/assets/colab-badge.svg\" alt=\"Open In Colab\"/></a>"
      ]
    },
    {
      "cell_type": "markdown",
      "metadata": {
        "id": "1ANFqOIzHA0J"
      },
      "source": [
        "#Intro"
      ]
    },
    {
      "cell_type": "markdown",
      "metadata": {
        "id": "rTaGb0VSIJcE"
      },
      "source": [
        "#Imports"
      ]
    },
    {
      "cell_type": "code",
      "metadata": {
        "id": "foumIYfrIMa9"
      },
      "source": [
        "import pandas as pd\n",
        "import matplotlib.pyplot as plt\n",
        "from sklearn.model_selection import train_test_split\n",
        "from sklearn.feature_extraction.text import TfidfVectorizer\n",
        "import nltk\n",
        "from nltk.corpus import stopwords\n",
        "import scipy\n",
        "import sklearn\n",
        "from sklearn.metrics.pairwise import cosine_similarity"
      ],
      "execution_count": null,
      "outputs": []
    },
    {
      "cell_type": "markdown",
      "metadata": {
        "id": "-rT1F4u9HG6F"
      },
      "source": [
        "#Data\n"
      ]
    },
    {
      "cell_type": "markdown",
      "metadata": {
        "id": "fFOT_ZZoHMHN"
      },
      "source": [
        "## Data Downloading\n"
      ]
    },
    {
      "cell_type": "code",
      "metadata": {
        "id": "8Um7Vlf4HgfV",
        "colab": {
          "base_uri": "https://localhost:8080/"
        },
        "outputId": "9ede2adf-e8a0-4e27-f9f4-4ebc85f433a8"
      },
      "source": [
        "!gsutil cp -r gs://rec-sys-fmi/hw2-dataset ."
      ],
      "execution_count": null,
      "outputs": [
        {
          "output_type": "stream",
          "text": [
            "Copying gs://rec-sys-fmi/hw2-dataset/shared_articles.csv...\n",
            "Copying gs://rec-sys-fmi/hw2-dataset/users_interactions.csv...\n",
            "- [2 files][ 28.6 MiB/ 28.6 MiB]                                                \n",
            "Operation completed over 2 objects/28.6 MiB.                                     \n"
          ],
          "name": "stdout"
        }
      ]
    },
    {
      "cell_type": "code",
      "metadata": {
        "id": "kcyhyz2NIeEv",
        "colab": {
          "base_uri": "https://localhost:8080/"
        },
        "outputId": "8600737f-8799-459f-a5a6-ba041f35da88"
      },
      "source": [
        "!ls ."
      ],
      "execution_count": null,
      "outputs": [
        {
          "output_type": "stream",
          "text": [
            "hw2-dataset  sample_data\n"
          ],
          "name": "stdout"
        }
      ]
    },
    {
      "cell_type": "markdown",
      "metadata": {
        "id": "gDyUjRKkHONq"
      },
      "source": [
        "##EDA"
      ]
    },
    {
      "cell_type": "code",
      "metadata": {
        "id": "PHDZPbZRHidU"
      },
      "source": [
        "users_interactions_df = pd.read_csv(\"hw2-dataset/users_interactions.csv\")\n",
        "articles_df = pd.read_csv(\"hw2-dataset/shared_articles.csv\")"
      ],
      "execution_count": null,
      "outputs": []
    },
    {
      "cell_type": "markdown",
      "metadata": {
        "id": "Rd_X9FueOFKB"
      },
      "source": [
        "###user interactions EDA and cleaning\n"
      ]
    },
    {
      "cell_type": "code",
      "metadata": {
        "id": "razqb92bI2qc",
        "colab": {
          "base_uri": "https://localhost:8080/",
          "height": 112
        },
        "outputId": "a51854e7-f704-4263-823b-0de7d7e4096e"
      },
      "source": [
        "users_interactions_df[0:2]"
      ],
      "execution_count": null,
      "outputs": [
        {
          "output_type": "execute_result",
          "data": {
            "text/html": [
              "<div>\n",
              "<style scoped>\n",
              "    .dataframe tbody tr th:only-of-type {\n",
              "        vertical-align: middle;\n",
              "    }\n",
              "\n",
              "    .dataframe tbody tr th {\n",
              "        vertical-align: top;\n",
              "    }\n",
              "\n",
              "    .dataframe thead th {\n",
              "        text-align: right;\n",
              "    }\n",
              "</style>\n",
              "<table border=\"1\" class=\"dataframe\">\n",
              "  <thead>\n",
              "    <tr style=\"text-align: right;\">\n",
              "      <th></th>\n",
              "      <th>timestamp</th>\n",
              "      <th>eventType</th>\n",
              "      <th>contentId</th>\n",
              "      <th>personId</th>\n",
              "      <th>sessionId</th>\n",
              "      <th>userAgent</th>\n",
              "      <th>userRegion</th>\n",
              "      <th>userCountry</th>\n",
              "    </tr>\n",
              "  </thead>\n",
              "  <tbody>\n",
              "    <tr>\n",
              "      <th>0</th>\n",
              "      <td>1465413032</td>\n",
              "      <td>VIEW</td>\n",
              "      <td>-3499919498720038879</td>\n",
              "      <td>-8845298781299428018</td>\n",
              "      <td>1264196770339959068</td>\n",
              "      <td>NaN</td>\n",
              "      <td>NaN</td>\n",
              "      <td>NaN</td>\n",
              "    </tr>\n",
              "    <tr>\n",
              "      <th>1</th>\n",
              "      <td>1465412560</td>\n",
              "      <td>VIEW</td>\n",
              "      <td>8890720798209849691</td>\n",
              "      <td>-1032019229384696495</td>\n",
              "      <td>3621737643587579081</td>\n",
              "      <td>Mozilla/5.0 (Macintosh; Intel Mac OS X 10_11_2...</td>\n",
              "      <td>NY</td>\n",
              "      <td>US</td>\n",
              "    </tr>\n",
              "  </tbody>\n",
              "</table>\n",
              "</div>"
            ],
            "text/plain": [
              "    timestamp eventType  ...  userRegion  userCountry\n",
              "0  1465413032      VIEW  ...         NaN          NaN\n",
              "1  1465412560      VIEW  ...          NY           US\n",
              "\n",
              "[2 rows x 8 columns]"
            ]
          },
          "metadata": {
            "tags": []
          },
          "execution_count": 5
        }
      ]
    },
    {
      "cell_type": "code",
      "metadata": {
        "colab": {
          "base_uri": "https://localhost:8080/"
        },
        "id": "biAzbxnsyNt4",
        "outputId": "08356d6b-ccee-49f0-ffa2-aa55efa08b13"
      },
      "source": [
        "#number of distinct users\r\n",
        "len(users_interactions_df.personId.value_counts())\r\n"
      ],
      "execution_count": null,
      "outputs": [
        {
          "output_type": "execute_result",
          "data": {
            "text/plain": [
              "1895"
            ]
          },
          "metadata": {
            "tags": []
          },
          "execution_count": 6
        }
      ]
    },
    {
      "cell_type": "code",
      "metadata": {
        "colab": {
          "base_uri": "https://localhost:8080/",
          "height": 283
        },
        "id": "Hb49XL-4xxnN",
        "outputId": "64aa701c-e90e-4121-fa43-6a4b238f309d"
      },
      "source": [
        "# interactions per user\r\n",
        "plt.plot(range(0,len(users_interactions_df.personId.value_counts())),users_interactions_df.personId.value_counts())"
      ],
      "execution_count": null,
      "outputs": [
        {
          "output_type": "execute_result",
          "data": {
            "text/plain": [
              "[<matplotlib.lines.Line2D at 0x7fac23384490>]"
            ]
          },
          "metadata": {
            "tags": []
          },
          "execution_count": 7
        },
        {
          "output_type": "display_data",
          "data": {
            "image/png": "[encoded data removed]",
            "text/plain": [
              "<Figure size 432x288 with 1 Axes>"
            ]
          },
          "metadata": {
            "tags": [],
            "needs_background": "light"
          }
        }
      ]
    },
    {
      "cell_type": "code",
      "metadata": {
        "id": "V0VsNOPlRWQE",
        "colab": {
          "base_uri": "https://localhost:8080/"
        },
        "outputId": "95d5c888-8f2a-4014-ccea-274b642a01a5"
      },
      "source": [
        "users_interactions_df.eventType.value_counts()"
      ],
      "execution_count": null,
      "outputs": [
        {
          "output_type": "execute_result",
          "data": {
            "text/plain": [
              "VIEW               61086\n",
              "LIKE                5745\n",
              "BOOKMARK            2463\n",
              "COMMENT CREATED     1611\n",
              "FOLLOW              1407\n",
              "Name: eventType, dtype: int64"
            ]
          },
          "metadata": {
            "tags": []
          },
          "execution_count": 8
        }
      ]
    },
    {
      "cell_type": "code",
      "metadata": {
        "id": "wc2TIqNvJ7oE",
        "colab": {
          "base_uri": "https://localhost:8080/",
          "height": 112
        },
        "outputId": "94cf370e-99d4-481a-e3b1-3aa029b13b91"
      },
      "source": [
        "users_interactions_df = users_interactions_df[[\"contentId\",\"personId\",\"eventType\"]]\n",
        "users_interactions_df[0:2]"
      ],
      "execution_count": null,
      "outputs": [
        {
          "output_type": "execute_result",
          "data": {
            "text/html": [
              "<div>\n",
              "<style scoped>\n",
              "    .dataframe tbody tr th:only-of-type {\n",
              "        vertical-align: middle;\n",
              "    }\n",
              "\n",
              "    .dataframe tbody tr th {\n",
              "        vertical-align: top;\n",
              "    }\n",
              "\n",
              "    .dataframe thead th {\n",
              "        text-align: right;\n",
              "    }\n",
              "</style>\n",
              "<table border=\"1\" class=\"dataframe\">\n",
              "  <thead>\n",
              "    <tr style=\"text-align: right;\">\n",
              "      <th></th>\n",
              "      <th>contentId</th>\n",
              "      <th>personId</th>\n",
              "      <th>eventType</th>\n",
              "    </tr>\n",
              "  </thead>\n",
              "  <tbody>\n",
              "    <tr>\n",
              "      <th>0</th>\n",
              "      <td>-3499919498720038879</td>\n",
              "      <td>-8845298781299428018</td>\n",
              "      <td>VIEW</td>\n",
              "    </tr>\n",
              "    <tr>\n",
              "      <th>1</th>\n",
              "      <td>8890720798209849691</td>\n",
              "      <td>-1032019229384696495</td>\n",
              "      <td>VIEW</td>\n",
              "    </tr>\n",
              "  </tbody>\n",
              "</table>\n",
              "</div>"
            ],
            "text/plain": [
              "             contentId             personId eventType\n",
              "0 -3499919498720038879 -8845298781299428018      VIEW\n",
              "1  8890720798209849691 -1032019229384696495      VIEW"
            ]
          },
          "metadata": {
            "tags": []
          },
          "execution_count": 9
        }
      ]
    },
    {
      "cell_type": "code",
      "metadata": {
        "id": "xjb8wzLKOcpN",
        "colab": {
          "base_uri": "https://localhost:8080/"
        },
        "outputId": "ab6cbda9-f1e4-4e5f-877b-244f85406298"
      },
      "source": [
        "users_interactions_df.eventType.value_counts()"
      ],
      "execution_count": null,
      "outputs": [
        {
          "output_type": "execute_result",
          "data": {
            "text/plain": [
              "VIEW               61086\n",
              "LIKE                5745\n",
              "BOOKMARK            2463\n",
              "COMMENT CREATED     1611\n",
              "FOLLOW              1407\n",
              "Name: eventType, dtype: int64"
            ]
          },
          "metadata": {
            "tags": []
          },
          "execution_count": 10
        }
      ]
    },
    {
      "cell_type": "code",
      "metadata": {
        "id": "_Fa1ULtSOvq_",
        "colab": {
          "base_uri": "https://localhost:8080/"
        },
        "outputId": "3e031dc6-7cf5-40bb-a02d-f564c76cc1fe"
      },
      "source": [
        "users_interactions_df.personId.value_counts()"
      ],
      "execution_count": null,
      "outputs": [
        {
          "output_type": "execute_result",
          "data": {
            "text/plain": [
              "-1032019229384696495    1885\n",
              "-1443636648652872475    1616\n",
              " 3609194402293569455    1435\n",
              "-2626634673110551643    1084\n",
              "-3596626804281480007     903\n",
              "                        ... \n",
              " 8471654280763064040       1\n",
              "-4611063622188844434       1\n",
              "-155245639726091910        1\n",
              " 2360366466703086037       1\n",
              " 4391185772225937239       1\n",
              "Name: personId, Length: 1895, dtype: int64"
            ]
          },
          "metadata": {
            "tags": []
          },
          "execution_count": 11
        }
      ]
    },
    {
      "cell_type": "code",
      "metadata": {
        "id": "xcq1Y5NWO-fn",
        "colab": {
          "base_uri": "https://localhost:8080/"
        },
        "outputId": "5ba0b640-800b-4df8-e173-f95ae128bf2f"
      },
      "source": [
        "users_interactions_df.contentId.value_counts()"
      ],
      "execution_count": null,
      "outputs": [
        {
          "output_type": "execute_result",
          "data": {
            "text/plain": [
              "-4029704725707465084    433\n",
              "-133139342397538859     315\n",
              "-6783772548752091658    294\n",
              " 8657408509986329668    294\n",
              "-6843047699859121724    281\n",
              "                       ... \n",
              "-8980834789053459155      1\n",
              " 5518462222339671372      1\n",
              "-3946932055798267834      1\n",
              " 163780025692404854       1\n",
              " 5232169374213306041      1\n",
              "Name: contentId, Length: 2987, dtype: int64"
            ]
          },
          "metadata": {
            "tags": []
          },
          "execution_count": 12
        }
      ]
    },
    {
      "cell_type": "code",
      "metadata": {
        "id": "7J2RM2ArRF5I",
        "colab": {
          "base_uri": "https://localhost:8080/"
        },
        "outputId": "b9099d0b-24db-4d26-95d8-d0ca50763730"
      },
      "source": [
        "users_interactions_df.shape"
      ],
      "execution_count": null,
      "outputs": [
        {
          "output_type": "execute_result",
          "data": {
            "text/plain": [
              "(72312, 3)"
            ]
          },
          "metadata": {
            "tags": []
          },
          "execution_count": 13
        }
      ]
    },
    {
      "cell_type": "code",
      "metadata": {
        "id": "KjsrV348PRgh",
        "colab": {
          "base_uri": "https://localhost:8080/"
        },
        "outputId": "0260f752-526e-48aa-8051-4e3ecb62e7be"
      },
      "source": [
        "users_interactions_df.drop_duplicates([\"contentId\",\"personId\"]).shape"
      ],
      "execution_count": null,
      "outputs": [
        {
          "output_type": "execute_result",
          "data": {
            "text/plain": [
              "(40710, 3)"
            ]
          },
          "metadata": {
            "tags": []
          },
          "execution_count": 14
        }
      ]
    },
    {
      "cell_type": "code",
      "metadata": {
        "id": "8jrEKmQOU0IO"
      },
      "source": [
        "#will leave only one record for user content, as in order to combine the diffent events will score them - view is implicit preference so 1 point, \n",
        "# like/comment/bookmark/follow are explicit/implicit preferences that probably the user like it so 5 points. after that will aggragete with leaving the highest score, so if user viewed,liked and comment the score will still be 5(not higher)\n",
        "\n",
        "di = {\"VIEW\":1, \"LIKE\":5,\"BOOKMARK\":5,\"COMMENT CREATED\":5,\"FOLLOW\":5}\n",
        "users_interactions_df[\"prefScore\"] = users_interactions_df[\"eventType\"].map(di)\n"
      ],
      "execution_count": null,
      "outputs": []
    },
    {
      "cell_type": "code",
      "metadata": {
        "id": "Lh2C16qlYEap"
      },
      "source": [
        "users_interactions_df.drop(\"eventType\",1) # removing the \"eventType\" colomn\n",
        "users_interactions_df = users_interactions_df.groupby([\"contentId\",\"personId\"]).max().reset_index()"
      ],
      "execution_count": null,
      "outputs": []
    },
    {
      "cell_type": "code",
      "metadata": {
        "id": "j0PdtUn3XM9W",
        "colab": {
          "base_uri": "https://localhost:8080/",
          "height": 424
        },
        "outputId": "489b0fbe-2976-42b8-f8af-d6f5b53bfd25"
      },
      "source": [
        "#for the cold start problem\n",
        "#lets drop all the users for which we don't have at least 5*6 scores (5 explicit prefenrences or correspondant number of implicit ones)\n",
        "users_interactions_count_df = users_interactions_df.groupby('personId').sum()\n",
        "users_with_enough_interactions_df = users_interactions_count_df[users_interactions_count_df[\"prefScore\"] >= 30].reset_index()[[\"personId\",\"prefScore\"]]\n",
        "users_with_enough_interactions_df"
      ],
      "execution_count": null,
      "outputs": [
        {
          "output_type": "execute_result",
          "data": {
            "text/html": [
              "<div>\n",
              "<style scoped>\n",
              "    .dataframe tbody tr th:only-of-type {\n",
              "        vertical-align: middle;\n",
              "    }\n",
              "\n",
              "    .dataframe tbody tr th {\n",
              "        vertical-align: top;\n",
              "    }\n",
              "\n",
              "    .dataframe thead th {\n",
              "        text-align: right;\n",
              "    }\n",
              "</style>\n",
              "<table border=\"1\" class=\"dataframe\">\n",
              "  <thead>\n",
              "    <tr style=\"text-align: right;\">\n",
              "      <th></th>\n",
              "      <th>personId</th>\n",
              "      <th>prefScore</th>\n",
              "    </tr>\n",
              "  </thead>\n",
              "  <tbody>\n",
              "    <tr>\n",
              "      <th>0</th>\n",
              "      <td>-9223121837663643404</td>\n",
              "      <td>43.0</td>\n",
              "    </tr>\n",
              "    <tr>\n",
              "      <th>1</th>\n",
              "      <td>-9109785559521267180</td>\n",
              "      <td>43.0</td>\n",
              "    </tr>\n",
              "    <tr>\n",
              "      <th>2</th>\n",
              "      <td>-9016528795238256703</td>\n",
              "      <td>342.0</td>\n",
              "    </tr>\n",
              "    <tr>\n",
              "      <th>3</th>\n",
              "      <td>-9009798162809551896</td>\n",
              "      <td>288.0</td>\n",
              "    </tr>\n",
              "    <tr>\n",
              "      <th>4</th>\n",
              "      <td>-9001583565812478106</td>\n",
              "      <td>40.0</td>\n",
              "    </tr>\n",
              "    <tr>\n",
              "      <th>...</th>\n",
              "      <td>...</td>\n",
              "      <td>...</td>\n",
              "    </tr>\n",
              "    <tr>\n",
              "      <th>320</th>\n",
              "      <td>8879844298911979276</td>\n",
              "      <td>39.0</td>\n",
              "    </tr>\n",
              "    <tr>\n",
              "      <th>321</th>\n",
              "      <td>8968131284214320024</td>\n",
              "      <td>113.0</td>\n",
              "    </tr>\n",
              "    <tr>\n",
              "      <th>322</th>\n",
              "      <td>9109075639526981934</td>\n",
              "      <td>73.0</td>\n",
              "    </tr>\n",
              "    <tr>\n",
              "      <th>323</th>\n",
              "      <td>9148269800512008413</td>\n",
              "      <td>51.0</td>\n",
              "    </tr>\n",
              "    <tr>\n",
              "      <th>324</th>\n",
              "      <td>9210530975708218054</td>\n",
              "      <td>67.0</td>\n",
              "    </tr>\n",
              "  </tbody>\n",
              "</table>\n",
              "<p>325 rows × 2 columns</p>\n",
              "</div>"
            ],
            "text/plain": [
              "                personId  prefScore\n",
              "0   -9223121837663643404       43.0\n",
              "1   -9109785559521267180       43.0\n",
              "2   -9016528795238256703      342.0\n",
              "3   -9009798162809551896      288.0\n",
              "4   -9001583565812478106       40.0\n",
              "..                   ...        ...\n",
              "320  8879844298911979276       39.0\n",
              "321  8968131284214320024      113.0\n",
              "322  9109075639526981934       73.0\n",
              "323  9148269800512008413       51.0\n",
              "324  9210530975708218054       67.0\n",
              "\n",
              "[325 rows x 2 columns]"
            ]
          },
          "metadata": {
            "tags": []
          },
          "execution_count": 20
        }
      ]
    },
    {
      "cell_type": "code",
      "metadata": {
        "id": "8Acp79HxosEH",
        "colab": {
          "base_uri": "https://localhost:8080/",
          "height": 283
        },
        "outputId": "52744f23-94a9-4945-c515-74d7bc425240"
      },
      "source": [
        "users_with_enough_interactions_df[\"prefScore\"].hist(bins=100)"
      ],
      "execution_count": null,
      "outputs": [
        {
          "output_type": "execute_result",
          "data": {
            "text/plain": [
              "<matplotlib.axes._subplots.AxesSubplot at 0x7fac22a11cd0>"
            ]
          },
          "metadata": {
            "tags": []
          },
          "execution_count": 21
        },
        {
          "output_type": "display_data",
          "data": {
            "image/png": "[encoded data removed]",
            "text/plain": [
              "<Figure size 432x288 with 1 Axes>"
            ]
          },
          "metadata": {
            "tags": [],
            "needs_background": "light"
          }
        }
      ]
    },
    {
      "cell_type": "code",
      "metadata": {
        "id": "7WxbBmHsX8ql",
        "colab": {
          "base_uri": "https://localhost:8080/"
        },
        "outputId": "c28c58d9-12a1-40be-902a-65426849c5e2"
      },
      "source": [
        "interactions_from_selected_users_df = users_interactions_df.merge(users_with_enough_interactions_df[[\"personId\"]], \n",
        "               how = 'right',\n",
        "               left_on = 'personId',\n",
        "               right_on = 'personId')\n",
        "interactions_from_selected_users_df.shape"
      ],
      "execution_count": null,
      "outputs": [
        {
          "output_type": "execute_result",
          "data": {
            "text/plain": [
              "(29114, 4)"
            ]
          },
          "metadata": {
            "tags": []
          },
          "execution_count": 22
        }
      ]
    },
    {
      "cell_type": "code",
      "metadata": {
        "id": "hz3UlrzvsJ3i",
        "colab": {
          "base_uri": "https://localhost:8080/",
          "height": 424
        },
        "outputId": "c70a66e1-e280-4c26-f4f1-baccddfdc6f9"
      },
      "source": [
        "interactions_from_selected_users_df"
      ],
      "execution_count": null,
      "outputs": [
        {
          "output_type": "execute_result",
          "data": {
            "text/html": [
              "<div>\n",
              "<style scoped>\n",
              "    .dataframe tbody tr th:only-of-type {\n",
              "        vertical-align: middle;\n",
              "    }\n",
              "\n",
              "    .dataframe tbody tr th {\n",
              "        vertical-align: top;\n",
              "    }\n",
              "\n",
              "    .dataframe thead th {\n",
              "        text-align: right;\n",
              "    }\n",
              "</style>\n",
              "<table border=\"1\" class=\"dataframe\">\n",
              "  <thead>\n",
              "    <tr style=\"text-align: right;\">\n",
              "      <th></th>\n",
              "      <th>contentId</th>\n",
              "      <th>personId</th>\n",
              "      <th>eventType</th>\n",
              "      <th>prefScore</th>\n",
              "    </tr>\n",
              "  </thead>\n",
              "  <tbody>\n",
              "    <tr>\n",
              "      <th>0</th>\n",
              "      <td>-8949113594875411859</td>\n",
              "      <td>-9223121837663643404</td>\n",
              "      <td>VIEW</td>\n",
              "      <td>1</td>\n",
              "    </tr>\n",
              "    <tr>\n",
              "      <th>1</th>\n",
              "      <td>-8377626164558006982</td>\n",
              "      <td>-9223121837663643404</td>\n",
              "      <td>VIEW</td>\n",
              "      <td>1</td>\n",
              "    </tr>\n",
              "    <tr>\n",
              "      <th>2</th>\n",
              "      <td>-8208801367848627943</td>\n",
              "      <td>-9223121837663643404</td>\n",
              "      <td>VIEW</td>\n",
              "      <td>1</td>\n",
              "    </tr>\n",
              "    <tr>\n",
              "      <th>3</th>\n",
              "      <td>-8187220755213888616</td>\n",
              "      <td>-9223121837663643404</td>\n",
              "      <td>VIEW</td>\n",
              "      <td>1</td>\n",
              "    </tr>\n",
              "    <tr>\n",
              "      <th>4</th>\n",
              "      <td>-7423191370472335463</td>\n",
              "      <td>-9223121837663643404</td>\n",
              "      <td>VIEW</td>\n",
              "      <td>1</td>\n",
              "    </tr>\n",
              "    <tr>\n",
              "      <th>...</th>\n",
              "      <td>...</td>\n",
              "      <td>...</td>\n",
              "      <td>...</td>\n",
              "      <td>...</td>\n",
              "    </tr>\n",
              "    <tr>\n",
              "      <th>29109</th>\n",
              "      <td>8477804012624580461</td>\n",
              "      <td>9210530975708218054</td>\n",
              "      <td>VIEW</td>\n",
              "      <td>1</td>\n",
              "    </tr>\n",
              "    <tr>\n",
              "      <th>29110</th>\n",
              "      <td>8526042588044002101</td>\n",
              "      <td>9210530975708218054</td>\n",
              "      <td>VIEW</td>\n",
              "      <td>1</td>\n",
              "    </tr>\n",
              "    <tr>\n",
              "      <th>29111</th>\n",
              "      <td>8856169137131817223</td>\n",
              "      <td>9210530975708218054</td>\n",
              "      <td>VIEW</td>\n",
              "      <td>1</td>\n",
              "    </tr>\n",
              "    <tr>\n",
              "      <th>29112</th>\n",
              "      <td>8869347744613364434</td>\n",
              "      <td>9210530975708218054</td>\n",
              "      <td>VIEW</td>\n",
              "      <td>1</td>\n",
              "    </tr>\n",
              "    <tr>\n",
              "      <th>29113</th>\n",
              "      <td>9209886322932807692</td>\n",
              "      <td>9210530975708218054</td>\n",
              "      <td>VIEW</td>\n",
              "      <td>1</td>\n",
              "    </tr>\n",
              "  </tbody>\n",
              "</table>\n",
              "<p>29114 rows × 4 columns</p>\n",
              "</div>"
            ],
            "text/plain": [
              "                 contentId             personId eventType  prefScore\n",
              "0     -8949113594875411859 -9223121837663643404      VIEW          1\n",
              "1     -8377626164558006982 -9223121837663643404      VIEW          1\n",
              "2     -8208801367848627943 -9223121837663643404      VIEW          1\n",
              "3     -8187220755213888616 -9223121837663643404      VIEW          1\n",
              "4     -7423191370472335463 -9223121837663643404      VIEW          1\n",
              "...                    ...                  ...       ...        ...\n",
              "29109  8477804012624580461  9210530975708218054      VIEW          1\n",
              "29110  8526042588044002101  9210530975708218054      VIEW          1\n",
              "29111  8856169137131817223  9210530975708218054      VIEW          1\n",
              "29112  8869347744613364434  9210530975708218054      VIEW          1\n",
              "29113  9209886322932807692  9210530975708218054      VIEW          1\n",
              "\n",
              "[29114 rows x 4 columns]"
            ]
          },
          "metadata": {
            "tags": []
          },
          "execution_count": 23
        }
      ]
    },
    {
      "cell_type": "markdown",
      "metadata": {
        "id": "TUkSEBPeONGh"
      },
      "source": [
        "###arcticles EDA and cleaning"
      ]
    },
    {
      "cell_type": "code",
      "metadata": {
        "id": "76dj5eQXJA7r",
        "colab": {
          "base_uri": "https://localhost:8080/",
          "height": 410
        },
        "outputId": "8cfeab35-7753-4d62-e37a-fb21ec78a62f"
      },
      "source": [
        "articles_df[0:2]"
      ],
      "execution_count": null,
      "outputs": [
        {
          "output_type": "execute_result",
          "data": {
            "text/html": [
              "<div>\n",
              "<style scoped>\n",
              "    .dataframe tbody tr th:only-of-type {\n",
              "        vertical-align: middle;\n",
              "    }\n",
              "\n",
              "    .dataframe tbody tr th {\n",
              "        vertical-align: top;\n",
              "    }\n",
              "\n",
              "    .dataframe thead th {\n",
              "        text-align: right;\n",
              "    }\n",
              "</style>\n",
              "<table border=\"1\" class=\"dataframe\">\n",
              "  <thead>\n",
              "    <tr style=\"text-align: right;\">\n",
              "      <th></th>\n",
              "      <th>timestamp</th>\n",
              "      <th>eventType</th>\n",
              "      <th>contentId</th>\n",
              "      <th>authorPersonId</th>\n",
              "      <th>authorSessionId</th>\n",
              "      <th>authorUserAgent</th>\n",
              "      <th>authorRegion</th>\n",
              "      <th>authorCountry</th>\n",
              "      <th>contentType</th>\n",
              "      <th>url</th>\n",
              "      <th>title</th>\n",
              "      <th>text</th>\n",
              "      <th>lang</th>\n",
              "    </tr>\n",
              "  </thead>\n",
              "  <tbody>\n",
              "    <tr>\n",
              "      <th>0</th>\n",
              "      <td>1459192779</td>\n",
              "      <td>CONTENT REMOVED</td>\n",
              "      <td>-6451309518266745024</td>\n",
              "      <td>4340306774493623681</td>\n",
              "      <td>8940341205206233829</td>\n",
              "      <td>NaN</td>\n",
              "      <td>NaN</td>\n",
              "      <td>NaN</td>\n",
              "      <td>HTML</td>\n",
              "      <td>http://www.nytimes.com/2016/03/28/business/dea...</td>\n",
              "      <td>Ethereum, a Virtual Currency, Enables Transact...</td>\n",
              "      <td>All of this work is still very early. The firs...</td>\n",
              "      <td>en</td>\n",
              "    </tr>\n",
              "    <tr>\n",
              "      <th>1</th>\n",
              "      <td>1459193988</td>\n",
              "      <td>CONTENT SHARED</td>\n",
              "      <td>-4110354420726924665</td>\n",
              "      <td>4340306774493623681</td>\n",
              "      <td>8940341205206233829</td>\n",
              "      <td>NaN</td>\n",
              "      <td>NaN</td>\n",
              "      <td>NaN</td>\n",
              "      <td>HTML</td>\n",
              "      <td>http://www.nytimes.com/2016/03/28/business/dea...</td>\n",
              "      <td>Ethereum, a Virtual Currency, Enables Transact...</td>\n",
              "      <td>All of this work is still very early. The firs...</td>\n",
              "      <td>en</td>\n",
              "    </tr>\n",
              "  </tbody>\n",
              "</table>\n",
              "</div>"
            ],
            "text/plain": [
              "    timestamp  ... lang\n",
              "0  1459192779  ...   en\n",
              "1  1459193988  ...   en\n",
              "\n",
              "[2 rows x 13 columns]"
            ]
          },
          "metadata": {
            "tags": []
          },
          "execution_count": 25
        }
      ]
    },
    {
      "cell_type": "code",
      "metadata": {
        "id": "TVDso0LzLtoC",
        "colab": {
          "base_uri": "https://localhost:8080/"
        },
        "outputId": "340ee0a1-b191-4b03-d52a-ff26a025f191"
      },
      "source": [
        "articles_df.lang.value_counts()"
      ],
      "execution_count": null,
      "outputs": [
        {
          "output_type": "execute_result",
          "data": {
            "text/plain": [
              "en    2264\n",
              "pt     850\n",
              "la       4\n",
              "ja       2\n",
              "es       2\n",
              "Name: lang, dtype: int64"
            ]
          },
          "metadata": {
            "tags": []
          },
          "execution_count": 26
        }
      ]
    },
    {
      "cell_type": "markdown",
      "metadata": {
        "id": "8imr-xEJJRiO"
      },
      "source": [
        "For our case of demonstrating content based filtering we are interested only in the PersonId-ContentId-Action information + the title and text of the Contents as we will left only english texts."
      ]
    },
    {
      "cell_type": "code",
      "metadata": {
        "id": "1xQj1rYQKuJx",
        "colab": {
          "base_uri": "https://localhost:8080/",
          "height": 112
        },
        "outputId": "4500bb62-77f1-4698-b61d-9c842c2263e8"
      },
      "source": [
        "articles_df = articles_df[articles_df[\"lang\"]==\"en\"]\n",
        "articles_df = articles_df[[\"contentId\",\"title\",\"text\"]]\n",
        "articles_df[0:2]"
      ],
      "execution_count": null,
      "outputs": [
        {
          "output_type": "execute_result",
          "data": {
            "text/html": [
              "<div>\n",
              "<style scoped>\n",
              "    .dataframe tbody tr th:only-of-type {\n",
              "        vertical-align: middle;\n",
              "    }\n",
              "\n",
              "    .dataframe tbody tr th {\n",
              "        vertical-align: top;\n",
              "    }\n",
              "\n",
              "    .dataframe thead th {\n",
              "        text-align: right;\n",
              "    }\n",
              "</style>\n",
              "<table border=\"1\" class=\"dataframe\">\n",
              "  <thead>\n",
              "    <tr style=\"text-align: right;\">\n",
              "      <th></th>\n",
              "      <th>contentId</th>\n",
              "      <th>title</th>\n",
              "      <th>text</th>\n",
              "    </tr>\n",
              "  </thead>\n",
              "  <tbody>\n",
              "    <tr>\n",
              "      <th>0</th>\n",
              "      <td>-6451309518266745024</td>\n",
              "      <td>Ethereum, a Virtual Currency, Enables Transact...</td>\n",
              "      <td>All of this work is still very early. The firs...</td>\n",
              "    </tr>\n",
              "    <tr>\n",
              "      <th>1</th>\n",
              "      <td>-4110354420726924665</td>\n",
              "      <td>Ethereum, a Virtual Currency, Enables Transact...</td>\n",
              "      <td>All of this work is still very early. The firs...</td>\n",
              "    </tr>\n",
              "  </tbody>\n",
              "</table>\n",
              "</div>"
            ],
            "text/plain": [
              "             contentId  ...                                               text\n",
              "0 -6451309518266745024  ...  All of this work is still very early. The firs...\n",
              "1 -4110354420726924665  ...  All of this work is still very early. The firs...\n",
              "\n",
              "[2 rows x 3 columns]"
            ]
          },
          "metadata": {
            "tags": []
          },
          "execution_count": 27
        }
      ]
    },
    {
      "cell_type": "code",
      "metadata": {
        "id": "rzLP-u5oMnD_",
        "colab": {
          "base_uri": "https://localhost:8080/"
        },
        "outputId": "df47a66a-d315-4ce7-d48f-cbddc74291a0"
      },
      "source": [
        "#leave only unique contentIds\n",
        "articles_df = articles_df.drop_duplicates(\"contentId\")\n",
        "articles_df.shape"
      ],
      "execution_count": null,
      "outputs": [
        {
          "output_type": "execute_result",
          "data": {
            "text/plain": [
              "(2218, 3)"
            ]
          },
          "metadata": {
            "tags": []
          },
          "execution_count": 28
        }
      ]
    },
    {
      "cell_type": "code",
      "metadata": {
        "id": "LWVDSf-1p5m3"
      },
      "source": [
        ""
      ],
      "execution_count": null,
      "outputs": []
    },
    {
      "cell_type": "markdown",
      "metadata": {
        "id": "rny-koCEpbV5"
      },
      "source": [
        "###Final Cleaning\n"
      ]
    },
    {
      "cell_type": "code",
      "metadata": {
        "id": "-iCAs2bqpfBz",
        "colab": {
          "base_uri": "https://localhost:8080/"
        },
        "outputId": "627f8188-b8cf-45a2-c48d-2271c4cf9924"
      },
      "source": [
        "print(interactions_from_selected_users_df.shape);\n",
        "final_interactions = interactions_from_selected_users_df.merge(articles_df, \n",
        "               how = 'right',\n",
        "               left_on = 'contentId',\n",
        "               right_on = 'contentId')\n",
        "print(final_interactions.shape)"
      ],
      "execution_count": null,
      "outputs": [
        {
          "output_type": "stream",
          "text": [
            "(29114, 4)\n",
            "(19947, 6)\n"
          ],
          "name": "stdout"
        }
      ]
    },
    {
      "cell_type": "code",
      "metadata": {
        "id": "-IoN_RE0s-eW",
        "colab": {
          "base_uri": "https://localhost:8080/"
        },
        "outputId": "96a08bb6-9bd7-47be-8753-c7bbfb02908c"
      },
      "source": [
        "interactions_from_selected_users_df.personId.value_counts()"
      ],
      "execution_count": null,
      "outputs": [
        {
          "output_type": "execute_result",
          "data": {
            "text/plain": [
              " 3609194402293569455    961\n",
              "-2626634673110551643    669\n",
              "-1032019229384696495    648\n",
              "-1443636648652872475    585\n",
              "-2979881261169775358    437\n",
              "                       ... \n",
              "-2373656804845892625     30\n",
              " 4795304184119033503     30\n",
              " 2652684983165843086     28\n",
              " 264882333231965121      27\n",
              " 4417246933621591943     27\n",
              "Name: personId, Length: 325, dtype: int64"
            ]
          },
          "metadata": {
            "tags": []
          },
          "execution_count": 30
        }
      ]
    },
    {
      "cell_type": "code",
      "metadata": {
        "id": "UVRF3QZTql0A",
        "colab": {
          "base_uri": "https://localhost:8080/"
        },
        "outputId": "89837110-e805-4a5f-e84d-c9ae8ef56cf5"
      },
      "source": [
        "final_interactions_count_df = final_interactions.groupby('personId').sum().reset_index()[[\"personId\",\"prefScore\"]]\n",
        "final_interactions_count_df = final_interactions_count_df[final_interactions_count_df[\"prefScore\"]>=30]\n",
        "final_users_with_enough_interactions_df = final_interactions_count_df[final_interactions_count_df[\"prefScore\"]>=30]\n",
        "\n",
        "print('# users after filtering:',final_users_with_enough_interactions_df.shape[0])\n",
        "print('# interactions after filtering:',final_interactions_count_df.shape[0])"
      ],
      "execution_count": null,
      "outputs": [
        {
          "output_type": "stream",
          "text": [
            "# users after filtering: 192\n",
            "# interactions after filtering: 192\n"
          ],
          "name": "stdout"
        }
      ]
    },
    {
      "cell_type": "code",
      "metadata": {
        "id": "j3G1DIxAwVyu",
        "colab": {
          "base_uri": "https://localhost:8080/"
        },
        "outputId": "54691927-1ad0-457f-853f-8cbfb803b2f0"
      },
      "source": [
        "final_interactions = final_interactions.merge(final_users_with_enough_interactions_df[[\"personId\"]], \n",
        "               how = 'right',\n",
        "               left_on = 'personId',\n",
        "               right_on = 'personId')\n",
        "print('# interactions after final filtering:',final_interactions.shape[0])"
      ],
      "execution_count": null,
      "outputs": [
        {
          "output_type": "stream",
          "text": [
            "# interactions after final filtering: 17109\n"
          ],
          "name": "stdout"
        }
      ]
    },
    {
      "cell_type": "code",
      "metadata": {
        "id": "XLBEyXtbxB1Q",
        "colab": {
          "base_uri": "https://localhost:8080/"
        },
        "outputId": "fa3d7828-24d1-44a2-8ff4-59f1fb9797dd"
      },
      "source": [
        "interactions_train_df, interactions_test_df = train_test_split(final_interactions,\n",
        "                                   stratify=final_interactions['personId'], \n",
        "                                   test_size=0.30,\n",
        "                                   random_state=13)\n",
        "\n",
        "print('# interactions on Train set: %d' % len(interactions_train_df))\n",
        "print('# interactions on Test set: %d' % len(interactions_test_df))"
      ],
      "execution_count": null,
      "outputs": [
        {
          "output_type": "stream",
          "text": [
            "# interactions on Train set: 11976\n",
            "# interactions on Test set: 5133\n"
          ],
          "name": "stdout"
        }
      ]
    },
    {
      "cell_type": "markdown",
      "metadata": {
        "id": "42BMW4s2Hjen"
      },
      "source": [
        "#Content Based Recommender\n"
      ]
    },
    {
      "cell_type": "code",
      "metadata": {
        "id": "cG5qkV1iHtB-"
      },
      "source": [
        "# train set is at interactions_train_df \n",
        "# test set is at interactions_test_df"
      ],
      "execution_count": null,
      "outputs": []
    },
    {
      "cell_type": "code",
      "metadata": {
        "id": "POB1Huhjx0LZ",
        "colab": {
          "base_uri": "https://localhost:8080/"
        },
        "outputId": "8d2c3d9a-a3d4-433e-8fa1-b3e70e876b17"
      },
      "source": [
        "nltk.download('stopwords')"
      ],
      "execution_count": null,
      "outputs": [
        {
          "output_type": "stream",
          "text": [
            "[nltk_data] Downloading package stopwords to /root/nltk_data...\n",
            "[nltk_data]   Unzipping corpora/stopwords.zip.\n"
          ],
          "name": "stdout"
        },
        {
          "output_type": "execute_result",
          "data": {
            "text/plain": [
              "True"
            ]
          },
          "metadata": {
            "tags": []
          },
          "execution_count": 35
        }
      ]
    },
    {
      "cell_type": "code",
      "metadata": {
        "id": "SQQzO-rUx0QE"
      },
      "source": [
        "stopwords_list = stopwords.words('english')\n",
        "\n",
        "vectorizer = TfidfVectorizer(analyzer='word',\n",
        "                     ngram_range=(1, 2),\n",
        "                     #min_df=0.005,\n",
        "                     #max_df=0.5,\n",
        "                     max_features=1000,\n",
        "                     stop_words=stopwords_list)\n",
        "\n",
        "item_ids = articles_df['contentId'].tolist()\n",
        "tfidf_matrix = vectorizer.fit_transform(articles_df['title'] + \" \" + articles_df['text'])\n",
        "tfidf_feature_names = vectorizer.get_feature_names()\n"
      ],
      "execution_count": null,
      "outputs": []
    },
    {
      "cell_type": "code",
      "metadata": {
        "id": "Gb6uBnI7z2GW",
        "colab": {
          "base_uri": "https://localhost:8080/"
        },
        "outputId": "9027bb03-7077-4ac4-9d9f-f2b108018251"
      },
      "source": [
        "print(tfidf_matrix.shape)\n",
        "print(tfidf_feature_names)"
      ],
      "execution_count": null,
      "outputs": [
        {
          "output_type": "stream",
          "text": [
            "(2218, 1000)\n",
            "['000', '10', '100', '12', '15', '20', '2014', '2015', '2016', '30', '50', 'ability', 'able', 'access', 'according', 'account', 'accounts', 'achieve', 'across', 'action', 'active', 'activity', 'actual', 'actually', 'ad', 'add', 'added', 'adding', 'addition', 'additional', 'address', 'advanced', 'advantage', 'agile', 'ago', 'ai', 'algorithm', 'algorithms', 'allow', 'allowing', 'allows', 'almost', 'along', 'already', 'also', 'although', 'always', 'amazon', 'among', 'amount', 'analysis', 'analytics', 'android', 'announced', 'another', 'answer', 'anyone', 'anything', 'api', 'apis', 'app', 'apple', 'application', 'applications', 'apply', 'approach', 'apps', 'architecture', 'area', 'areas', 'around', 'article', 'artificial', 'artificial intelligence', 'ask', 'asked', 'attention', 'author', 'automated', 'automatically', 'available', 'average', 'avoid', 'away', 'aws', 'back', 'background', 'bad', 'bank', 'banking', 'banks', 'base', 'based', 'basic', 'become', 'becomes', 'behavior', 'behind', 'believe', 'benefit', 'benefits', 'best', 'better', 'beyond', 'big', 'biggest', 'billion', 'bit', 'bitcoin', 'block', 'blockchain', 'blog', 'board', 'book', 'bot', 'bots', 'box', 'brain', 'brand', 'brands', 'bring', 'browser', 'build', 'building', 'built', 'business', 'businesses', 'button', 'buy', 'call', 'called', 'calls', 'came', 'cannot', 'capabilities', 'car', 'card', 'care', 'case', 'cases', 'center', 'ceo', 'certain', 'challenge', 'challenges', 'change', 'changed', 'changes', 'changing', 'chat', 'check', 'choice', 'choose', 'chrome', 'class', 'clear', 'click', 'client', 'clients', 'close', 'cloud', 'cloud platform', 'cluster', 'co', 'code', 'color', 'com', 'come', 'comes', 'coming', 'command', 'commerce', 'common', 'communication', 'community', 'companies', 'company', 'compared', 'complete', 'completely', 'complex', 'component', 'components', 'compute', 'computer', 'computers', 'computing', 'concept', 'conference', 'configuration', 'connect', 'connected', 'connection', 'consider', 'consumer', 'consumers', 'container', 'containers', 'content', 'context', 'continue', 'control', 'conversation', 'core', 'cost', 'costs', 'could', 'couple', 'course', 'create', 'created', 'creating', 'credit', 'critical', 'cross', 'culture', 'current', 'currently', 'custom', 'customer', 'customers', 'data', 'data science', 'database', 'date', 'day', 'days', 'deal', 'decision', 'decisions', 'deep', 'deep learning', 'default', 'define', 'defined', 'deliver', 'delivery', 'demand', 'deploy', 'deployment', 'design', 'designed', 'desktop', 'details', 'develop', 'developed', 'developer', 'developers', 'developing', 'development', 'device', 'devices', 'difference', 'different', 'difficult', 'digital', 'direct', 'directly', 'display', 'distributed', 'distribution', 'docker', 'document', 'documentation', 'domain', 'done', 'download', 'drive', 'driven', 'driving', 'drupal', 'due', 'earlier', 'early', 'easier', 'easily', 'easy', 'ecosystem', 'effect', 'effective', 'efficient', 'effort', 'efforts', 'either', 'element', 'elements', 'else', 'email', 'employees', 'enable', 'end', 'engagement', 'engine', 'engineering', 'engineers', 'enough', 'ensure', 'enterprise', 'entire', 'environment', 'error', 'especially', 'etc', 'ethereum', 'even', 'event', 'events', 'ever', 'every', 'everyone', 'everything', 'exactly', 'example', 'examples', 'existing', 'expect', 'expected', 'experience', 'experiences', 'face', 'facebook', 'fact', 'far', 'fast', 'faster', 'feature', 'features', 'feedback', 'feel', 'field', 'figure', 'file', 'files', 'filter', 'final', 'finally', 'financial', 'find', 'first', 'fit', 'five', 'focus', 'focused', 'follow', 'following', 'form', 'forward', 'found', 'founder', 'four', 'framework', 'frameworks', 'free', 'friends', 'front', 'full', 'fully', 'function', 'functionality', 'functions', 'future', 'game', 'general', 'generally', 'generate', 'generated', 'generation', 'get', 'gets', 'getting', 'git', 'github', 'give', 'given', 'gives', 'global', 'go', 'goal', 'goals', 'goes', 'going', 'good', 'google', 'google cloud', 'got', 'graph', 'great', 'group', 'groups', 'grow', 'growing', 'growth', 'guide', 'half', 'hand', 'handle', 'happen', 'happens', 'hard', 'hardware', 'head', 'health', 'help', 'helps', 'high', 'higher', 'highly', 'history', 'home', 'hours', 'however', 'html', 'http', 'huge', 'human', 'humans', 'ibm', 'id', 'idea', 'ideas', 'identify', 'image', 'images', 'imagine', 'impact', 'implement', 'implementation', 'important', 'improve', 'improvements', 'include', 'includes', 'including', 'increase', 'individual', 'industry', 'information', 'infrastructure', 'innovation', 'input', 'inside', 'insights', 'install', 'instance', 'instances', 'instead', 'insurance', 'integration', 'intelligence', 'interest', 'interested', 'interesting', 'interface', 'internal', 'internet', 'investment', 'ios', 'iot', 'iphone', 'issue', 'issues', 'items', 'java', 'javascript', 'job', 'jobs', 'js', 'json', 'keep', 'key', 'kind', 'know', 'knowledge', 'known', 'kubernetes', 'language', 'languages', 'large', 'larger', 'last', 'last year', 'later', 'latest', 'launch', 'launched', 'layer', 'layout', 'lead', 'leaders', 'leading', 'learn', 'learned', 'learning', 'least', 'led', 'left', 'less', 'let', 'lets', 'level', 'levels', 'libraries', 'library', 'life', 'like', 'likely', 'limited', 'line', 'lines', 'link', 'links', 'linux', 'list', 'little', 'live', 'load', 'local', 'location', 'log', 'long', 'longer', 'look', 'looking', 'looks', 'lot', 'lots', 'love', 'low', 'lower', 'machine', 'machine learning', 'machines', 'made', 'main', 'major', 'make', 'make sure', 'makes', 'making', 'manage', 'management', 'manager', 'many', 'map', 'maps', 'market', 'marketing', 'markets', 'match', 'matter', 'may', 'maybe', 'mean', 'means', 'media', 'meet', 'members', 'memory', 'message', 'messages', 'messaging', 'messenger', 'method', 'methods', 'metrics', 'microservices', 'microsoft', 'might', 'million', 'millions', 'mind', 'minutes', 'mobile', 'model', 'models', 'module', 'modules', 'money', 'month', 'months', 'move', 'moving', 'much', 'multi', 'multiple', 'music', 'must', 'name', 'native', 'natural', 'necessary', 'need', 'needed', 'needs', 'net', 'netflix', 'network', 'networks', 'neural', 'never', 'new', 'news', 'next', 'node', 'node js', 'non', 'note', 'nothing', 'number', 'numbers', 'object', 'objects', 'offer', 'offering', 'offers', 'office', 'often', 'old', 'one', 'ones', 'online', 'open', 'open source', 'operating', 'operations', 'opportunities', 'opportunity', 'option', 'options', 'order', 'organization', 'organizations', 'original', 'os', 'others', 'output', 'outside', 'overall', 'package', 'page', 'pages', 'part', 'particular', 'particularly', 'parts', 'party', 'past', 'path', 'pattern', 'patterns', 'pay', 'payments', 'people', 'per', 'percent', 'perform', 'performance', 'perhaps', 'person', 'personal', 'phone', 'php', 'physical', 'picture', 'place', 'plan', 'plans', 'platform', 'platforms', 'play', 'players', 'please', 'plus', 'point', 'points', 'popular', 'possible', 'post', 'potential', 'power', 'powerful', 'practice', 'practices', 'pretty', 'previous', 'price', 'private', 'probably', 'problem', 'problems', 'process', 'processes', 'processing', 'product', 'production', 'products', 'program', 'programming', 'progress', 'project', 'projects', 'provide', 'provides', 'providing', 'public', 'purpose', 'push', 'put', 'python', 'quality', 'query', 'question', 'questions', 'quick', 'quickly', 'quite', 'range', 'rate', 'rather', 'reach', 'react', 'read', 'reading', 'ready', 'real', 'real time', 'reality', 'really', 'reason', 'reasons', 'recent', 'recently', 'recognition', 'red', 'reduce', 'related', 'release', 'released', 'relevant', 'remember', 'report', 'request', 'requests', 'require', 'required', 'requirements', 'requires', 'research', 'researchers', 'resource', 'resources', 'response', 'rest', 'result', 'results', 'return', 'revenue', 'review', 'right', 'risk', 'role', 'room', 'rules', 'run', 'running', 'said', 'sales', 'save', 'say', 'says', 'scale', 'science', 'scientists', 'screen', 'script', 'search', 'second', 'seconds', 'section', 'security', 'see', 'seem', 'seems', 'seen', 'select', 'self', 'send', 'sense', 'separate', 'series', 'server', 'servers', 'service', 'services', 'session', 'set', 'setting', 'several', 'share', 'shared', 'sharing', 'short', 'show', 'shown', 'shows', 'side', 'sign', 'significant', 'similar', 'simple', 'simply', 'since', 'single', 'siri', 'site', 'sites', 'size', 'skills', 'slack', 'slow', 'small', 'smaller', 'smart', 'social', 'software', 'solution', 'solutions', 'solve', 'someone', 'something', 'sometimes', 'soon', 'sound', 'source', 'space', 'specific', 'speed', 'spend', 'spring', 'stack', 'stage', 'standard', 'start', 'started', 'starting', 'startup', 'startups', 'state', 'stay', 'step', 'steps', 'still', 'stop', 'storage', 'store', 'stories', 'story', 'strategy', 'stream', 'strong', 'structure', 'studio', 'study', 'stuff', 'style', 'success', 'successful', 'support', 'supports', 'sure', 'system', 'systems', 'table', 'take', 'taken', 'takes', 'taking', 'talent', 'talk', 'talking', 'target', 'task', 'tasks', 'team', 'teams', 'tech', 'technical', 'techniques', 'technologies', 'technology', 'tell', 'tensorflow', 'term', 'terms', 'test', 'testing', 'tests', 'text', 'thanks', 'thing', 'things', 'think', 'thinking', 'third', 'though', 'thought', 'three', 'time', 'times', 'today', 'together', 'told', 'took', 'tool', 'tools', 'top', 'total', 'track', 'tracking', 'traditional', 'traffic', 'training', 'true', 'trust', 'try', 'trying', 'turn', 'twitter', 'two', 'type', 'types', 'typically', 'uber', 'ui', 'understand', 'understanding', 'unique', 'unit', 'university', 'update', 'updates', 'us', 'use', 'used', 'useful', 'user', 'users', 'uses', 'using', 'usually', 'value', 'values', 'various', 'version', 'versions', 'via', 'video', 'view', 'views', 'virtual', 'vision', 'visual', 'voice', 'vr', 'wait', 'want', 'wanted', 'wants', 'watch', 'way', 'ways', 'web', 'website', 'week', 'well', 'whether', 'whole', 'wide', 'windows', 'within', 'without', 'women', 'word', 'words', 'work', 'worked', 'working', 'works', 'world', 'worth', 'would', 'write', 'writing', 'written', 'wrong', 'wrote', 'year', 'years', 'yes', 'yet']\n"
          ],
          "name": "stdout"
        }
      ]
    },
    {
      "cell_type": "markdown",
      "metadata": {
        "id": "_ex0iROw55Nn"
      },
      "source": [
        "## Build User Profiles\n",
        "The profiles are build from all the content which the user engaded with with taken the scores in consideration"
      ]
    },
    {
      "cell_type": "code",
      "metadata": {
        "id": "lxUpjG7C6J5V"
      },
      "source": [
        "# calculate user profiles from train dataset\n",
        "user_profiles = {}\n",
        "for person_id in interactions_train_df.personId.unique():\n",
        "  user_profile = None\n",
        "  interactions_person_df = interactions_train_df[interactions_train_df[\"personId\"]==person_id]\n",
        "  all_scores = interactions_person_df.prefScore.sum()\n",
        "  for index, row in interactions_person_df.iterrows():\n",
        "    content_id = row[\"contentId\"]\n",
        "    score = row[\"prefScore\"]\n",
        "    if(user_profile==None):\n",
        "      user_profile = tfidf_matrix[item_ids.index(content_id)]*score/all_scores\n",
        "    else:\n",
        "      user_profile = scipy.sparse.vstack((user_profile,tfidf_matrix[item_ids.index(content_id)]*score/all_scores))\n",
        "  user_profiles[person_id] = user_profile"
      ],
      "execution_count": null,
      "outputs": []
    },
    {
      "cell_type": "markdown",
      "metadata": {
        "id": "9B4Lj0VSF83I"
      },
      "source": [
        "### Evaluate"
      ]
    },
    {
      "cell_type": "code",
      "metadata": {
        "id": "PtWSaCK3F8H-"
      },
      "source": [
        "#recommend items to the users from the test dataset \n",
        "#Evaluation is with MRR (https://en.wikipedia.org/wiki/Mean_reciprocal_rank)"
      ],
      "execution_count": null,
      "outputs": []
    },
    {
      "cell_type": "code",
      "metadata": {
        "id": "t8AA5xAFKF9Q",
        "colab": {
          "base_uri": "https://localhost:8080/"
        },
        "outputId": "d502c8a4-14ac-432a-9a29-6eecc46d2e3c"
      },
      "source": [
        "mrr = 0\n",
        "for person_id in interactions_train_df.personId.unique():\n",
        "  cosine_similarities = cosine_similarity(user_profiles[person_id], tfidf_matrix)\n",
        "  #print(cosine_similarities)\n",
        "  similar_indices = cosine_similarities.argsort().flatten()[-1000:]\n",
        "  items_to_ignore = interactions_train_df[interactions_train_df[\"personId\"]==person_id][\"contentId\"].values\n",
        "  items_to_evaluate = interactions_test_df[interactions_test_df[\"personId\"]==person_id][\"contentId\"].values\n",
        "  similar_indices_filtered = list(filter(lambda x: item_ids[x] not in items_to_ignore, similar_indices))\n",
        "  print(\"after filtering train set items for person \", person_id, \" = \",len(similar_indices_filtered))\n",
        "  \n",
        "  first_rank = len(similar_indices_filtered);\n",
        "  l = len(similar_indices_filtered);\n",
        "  for i in range(l):\n",
        "    if(item_ids[similar_indices_filtered[l-i-1]] in items_to_evaluate):\n",
        "      first_rank = i+1;\n",
        "      break;\n",
        "  mrr =mrr+ 1/first_rank\n",
        "  print(\"first rank = \",first_rank);\n",
        "  print(\"number of train items=\",len(items_to_ignore))\n",
        "mrr = mrr / interactions_train_df.personId.nunique()\n",
        "print(\"mrr = \",mrr)"
      ],
      "execution_count": null,
      "outputs": [
        {
          "output_type": "stream",
          "text": [
            "after filtering train set items for person  -1.4436366486528724e+18  =  778\n",
            "first rank =  4\n",
            "number of train items= 363\n",
            "after filtering train set items for person  -7.092877180347316e+17  =  923\n",
            "first rank =  3\n",
            "number of train items= 164\n",
            "after filtering train set items for person  7.890134385692541e+18  =  976\n",
            "first rank =  5\n",
            "number of train items= 41\n",
            "after filtering train set items for person  8.018955947177723e+17  =  947\n",
            "first rank =  61\n",
            "number of train items= 101\n",
            "after filtering train set items for person  5.621833459783231e+18  =  950\n",
            "first rank =  64\n",
            "number of train items= 80\n",
            "after filtering train set items for person  4.2095174786603725e+18  =  946\n",
            "first rank =  3\n",
            "number of train items= 94\n",
            "after filtering train set items for person  7.3929904654096e+18  =  940\n",
            "first rank =  15\n",
            "number of train items= 105\n",
            "after filtering train set items for person  -1.3874643583347587e+18  =  973\n",
            "first rank =  59\n",
            "number of train items= 57\n",
            "after filtering train set items for person  4.432373331608915e+18  =  971\n",
            "first rank =  42\n",
            "number of train items= 41\n",
            "after filtering train set items for person  5.2035237390767776e+17  =  986\n",
            "first rank =  40\n",
            "number of train items= 21\n",
            "after filtering train set items for person  3.829784524040647e+18  =  923\n",
            "first rank =  44\n",
            "number of train items= 144\n",
            "after filtering train set items for person  2.9015460260852557e+18  =  956\n",
            "first rank =  19\n",
            "number of train items= 84\n",
            "after filtering train set items for person  -2.979881261169775e+18  =  886\n",
            "first rank =  7\n",
            "number of train items= 229\n",
            "after filtering train set items for person  1.120069409160402e+18  =  971\n",
            "first rank =  52\n",
            "number of train items= 51\n",
            "after filtering train set items for person  -2.6266346731105516e+18  =  835\n",
            "first rank =  3\n",
            "number of train items= 355\n",
            "after filtering train set items for person  4.227773676394505e+18  =  975\n",
            "first rank =  237\n",
            "number of train items= 43\n",
            "after filtering train set items for person  -5.380862725077089e+18  =  990\n",
            "first rank =  43\n",
            "number of train items= 24\n",
            "after filtering train set items for person  6.708787780368812e+17  =  984\n",
            "first rank =  423\n",
            "number of train items= 44\n",
            "after filtering train set items for person  -8.938892733048122e+16  =  968\n",
            "first rank =  157\n",
            "number of train items= 61\n",
            "after filtering train set items for person  -9.009798162809552e+18  =  929\n",
            "first rank =  2\n",
            "number of train items= 146\n",
            "after filtering train set items for person  -2.623844842607045e+18  =  983\n",
            "first rank =  318\n",
            "number of train items= 32\n",
            "after filtering train set items for person  3.3753810773620255e+18  =  968\n",
            "first rank =  13\n",
            "number of train items= 57\n",
            "after filtering train set items for person  -3.230911339419872e+18  =  987\n",
            "first rank =  210\n",
            "number of train items= 29\n",
            "after filtering train set items for person  -4.092545774372728e+18  =  966\n",
            "first rank =  49\n",
            "number of train items= 64\n",
            "after filtering train set items for person  -4.453371116927153e+17  =  957\n",
            "first rank =  1\n",
            "number of train items= 66\n",
            "after filtering train set items for person  8.96813128421432e+18  =  968\n",
            "first rank =  4\n",
            "number of train items= 66\n",
            "after filtering train set items for person  3.06127394716611e+18  =  981\n",
            "first rank =  46\n",
            "number of train items= 46\n",
            "after filtering train set items for person  1.296936597887558e+18  =  961\n",
            "first rank =  41\n",
            "number of train items= 66\n",
            "after filtering train set items for person  1.116121227607582e+18  =  904\n",
            "first rank =  9\n",
            "number of train items= 182\n",
            "after filtering train set items for person  -5.706287032724665e+18  =  958\n",
            "first rank =  140\n",
            "number of train items= 94\n",
            "after filtering train set items for person  3.6369109684488335e+18  =  903\n",
            "first rank =  73\n",
            "number of train items= 189\n",
            "after filtering train set items for person  -3.203894957285229e+18  =  964\n",
            "first rank =  2\n",
            "number of train items= 66\n",
            "after filtering train set items for person  -8.550167523008134e+18  =  934\n",
            "first rank =  25\n",
            "number of train items= 143\n",
            "after filtering train set items for person  3.81384276580899e+18  =  979\n",
            "first rank =  42\n",
            "number of train items= 36\n",
            "after filtering train set items for person  -8.781306637602263e+18  =  978\n",
            "first rank =  46\n",
            "number of train items= 34\n",
            "after filtering train set items for person  -5.868110530814399e+18  =  977\n",
            "first rank =  26\n",
            "number of train items= 42\n",
            "after filtering train set items for person  -1.602833675167377e+18  =  920\n",
            "first rank =  4\n",
            "number of train items= 97\n",
            "after filtering train set items for person  -1.29278703297726e+18  =  981\n",
            "first rank =  269\n",
            "number of train items= 28\n",
            "after filtering train set items for person  2.2903227651052209e+18  =  981\n",
            "first rank =  18\n",
            "number of train items= 39\n",
            "after filtering train set items for person  -3.59662680428148e+18  =  860\n",
            "first rank =  7\n",
            "number of train items= 225\n",
            "after filtering train set items for person  -6.730258785244938e+18  =  984\n",
            "first rank =  191\n",
            "number of train items= 25\n",
            "after filtering train set items for person  -7.540738139248279e+18  =  971\n",
            "first rank =  88\n",
            "number of train items= 46\n",
            "after filtering train set items for person  -1.0320192293846964e+18  =  776\n",
            "first rank =  1\n",
            "number of train items= 393\n",
            "after filtering train set items for person  3.586672003786969e+18  =  982\n",
            "first rank =  241\n",
            "number of train items= 30\n",
            "after filtering train set items for person  5.598537709124464e+18  =  989\n",
            "first rank =  104\n",
            "number of train items= 24\n",
            "after filtering train set items for person  3.217014177234377e+18  =  982\n",
            "first rank =  70\n",
            "number of train items= 52\n",
            "after filtering train set items for person  -3.3900493720670525e+18  =  939\n",
            "first rank =  1\n",
            "number of train items= 103\n",
            "after filtering train set items for person  -4.816179660608648e+16  =  978\n",
            "first rank =  76\n",
            "number of train items= 35\n",
            "after filtering train set items for person  1.623838599684589e+18  =  945\n",
            "first rank =  8\n",
            "number of train items= 152\n",
            "after filtering train set items for person  4.3130456379154765e+18  =  909\n",
            "first rank =  1\n",
            "number of train items= 167\n",
            "after filtering train set items for person  -9.016528795238257e+18  =  923\n",
            "first rank =  10\n",
            "number of train items= 143\n",
            "after filtering train set items for person  -6.627505417926774e+18  =  976\n",
            "first rank =  13\n",
            "number of train items= 39\n",
            "after filtering train set items for person  3.49912595585276e+18  =  984\n",
            "first rank =  60\n",
            "number of train items= 25\n",
            "after filtering train set items for person  9.109075639526982e+18  =  985\n",
            "first rank =  3\n",
            "number of train items= 22\n",
            "after filtering train set items for person  3.8916379977171046e+18  =  915\n",
            "first rank =  1\n",
            "number of train items= 120\n",
            "after filtering train set items for person  -1.479311724257857e+18  =  952\n",
            "first rank =  105\n",
            "number of train items= 83\n",
            "after filtering train set items for person  8.698209668239174e+18  =  924\n",
            "first rank =  5\n",
            "number of train items= 123\n",
            "after filtering train set items for person  4.254153380739593e+18  =  962\n",
            "first rank =  3\n",
            "number of train items= 81\n",
            "after filtering train set items for person  -8.860671864164758e+18  =  963\n",
            "first rank =  129\n",
            "number of train items= 62\n",
            "after filtering train set items for person  -8.694104221113176e+18  =  984\n",
            "first rank =  63\n",
            "number of train items= 18\n",
            "after filtering train set items for person  2.76016022451262e+18  =  968\n",
            "first rank =  36\n",
            "number of train items= 47\n",
            "after filtering train set items for person  -1.5782875614100887e+18  =  934\n",
            "first rank =  29\n",
            "number of train items= 132\n",
            "after filtering train set items for person  6.926896082929484e+17  =  902\n",
            "first rank =  17\n",
            "number of train items= 201\n",
            "after filtering train set items for person  -4.160173091318456e+18  =  967\n",
            "first rank =  41\n",
            "number of train items= 51\n",
            "after filtering train set items for person  2.9442027491459466e+18  =  988\n",
            "first rank =  154\n",
            "number of train items= 29\n",
            "after filtering train set items for person  3.5761376848122353e+18  =  973\n",
            "first rank =  11\n",
            "number of train items= 44\n",
            "after filtering train set items for person  8.818562215210458e+17  =  984\n",
            "first rank =  171\n",
            "number of train items= 48\n",
            "after filtering train set items for person  -1.3938667327421898e+18  =  966\n",
            "first rank =  7\n",
            "number of train items= 80\n",
            "after filtering train set items for person  5.030175185311671e+18  =  972\n",
            "first rank =  22\n",
            "number of train items= 54\n",
            "after filtering train set items for person  -8.020832670974472e+18  =  946\n",
            "first rank =  146\n",
            "number of train items= 129\n",
            "after filtering train set items for person  -3.535274684588209e+18  =  974\n",
            "first rank =  124\n",
            "number of train items= 35\n",
            "after filtering train set items for person  7.580644064067189e+18  =  987\n",
            "first rank =  13\n",
            "number of train items= 21\n",
            "after filtering train set items for person  -8.845298781299428e+18  =  967\n",
            "first rank =  202\n",
            "number of train items= 71\n",
            "after filtering train set items for person  -3.196433790714487e+18  =  987\n",
            "first rank =  18\n",
            "number of train items= 21\n",
            "after filtering train set items for person  7.774613525190731e+18  =  989\n",
            "first rank =  321\n",
            "number of train items= 37\n",
            "after filtering train set items for person  3.6091944022935695e+18  =  798\n",
            "first rank =  2\n",
            "number of train items= 469\n",
            "after filtering train set items for person  3.0945132333854725e+18  =  985\n",
            "first rank =  78\n",
            "number of train items= 32\n",
            "after filtering train set items for person  5.127372011815639e+18  =  961\n",
            "first rank =  96\n",
            "number of train items= 83\n",
            "after filtering train set items for person  -1.3675753864927552e+18  =  986\n",
            "first rank =  154\n",
            "number of train items= 23\n",
            "after filtering train set items for person  3.9150382517846815e+18  =  987\n",
            "first rank =  257\n",
            "number of train items= 27\n",
            "after filtering train set items for person  2.4162807335449626e+18  =  873\n",
            "first rank =  9\n",
            "number of train items= 197\n",
            "after filtering train set items for person  7.781822014935525e+18  =  986\n",
            "first rank =  613\n",
            "number of train items= 25\n",
            "after filtering train set items for person  1.8953262515773788e+18  =  948\n",
            "first rank =  46\n",
            "number of train items= 94\n",
            "after filtering train set items for person  -3.9542774059872824e+18  =  980\n",
            "first rank =  241\n",
            "number of train items= 43\n",
            "after filtering train set items for person  -6.067316262393891e+18  =  971\n",
            "first rank =  53\n",
            "number of train items= 40\n",
            "after filtering train set items for person  -6.944500707172804e+18  =  953\n",
            "first rank =  79\n",
            "number of train items= 90\n",
            "after filtering train set items for person  6.018247344671481e+18  =  986\n",
            "first rank =  242\n",
            "number of train items= 25\n",
            "after filtering train set items for person  -6.786856227257648e+18  =  970\n",
            "first rank =  52\n",
            "number of train items= 53\n",
            "after filtering train set items for person  2.754566407772265e+18  =  988\n",
            "first rank =  325\n",
            "number of train items= 49\n",
            "after filtering train set items for person  -8.399605302938582e+18  =  959\n",
            "first rank =  88\n",
            "number of train items= 64\n",
            "after filtering train set items for person  -6.316613156648676e+18  =  977\n",
            "first rank =  4\n",
            "number of train items= 27\n",
            "after filtering train set items for person  -1.836083230511906e+18  =  988\n",
            "first rank =  181\n",
            "number of train items= 40\n",
            "after filtering train set items for person  -6.188912942004688e+18  =  987\n",
            "first rank =  164\n",
            "number of train items= 25\n",
            "after filtering train set items for person  3.3025560339629967e+18  =  908\n",
            "first rank =  1\n",
            "number of train items= 151\n",
            "after filtering train set items for person  3.743121668889758e+18  =  972\n",
            "first rank =  30\n",
            "number of train items= 59\n",
            "after filtering train set items for person  1.0230570559821027e+17  =  986\n",
            "first rank =  397\n",
            "number of train items= 22\n",
            "after filtering train set items for person  7.948079555216525e+18  =  954\n",
            "first rank =  54\n",
            "number of train items= 82\n",
            "after filtering train set items for person  -6.153009241569363e+18  =  975\n",
            "first rank =  13\n",
            "number of train items= 37\n",
            "after filtering train set items for person  8.841741572929645e+18  =  991\n",
            "first rank =  77\n",
            "number of train items= 21\n",
            "after filtering train set items for person  -4.2981776945762755e+18  =  973\n",
            "first rank =  10\n",
            "number of train items= 55\n",
            "after filtering train set items for person  1.493119272824026e+18  =  973\n",
            "first rank =  131\n",
            "number of train items= 41\n",
            "after filtering train set items for person  8.766802480854827e+18  =  972\n",
            "first rank =  118\n",
            "number of train items= 39\n",
            "after filtering train set items for person  6.003902177042843e+18  =  983\n",
            "first rank =  28\n",
            "number of train items= 48\n",
            "after filtering train set items for person  -1.0884221493680496e+17  =  883\n",
            "first rank =  1\n",
            "number of train items= 164\n",
            "after filtering train set items for person  6.971525809430309e+18  =  974\n",
            "first rank =  26\n",
            "number of train items= 36\n",
            "after filtering train set items for person  5.99868086167625e+17  =  985\n",
            "first rank =  4\n",
            "number of train items= 29\n",
            "after filtering train set items for person  6.644119361202587e+18  =  947\n",
            "first rank =  3\n",
            "number of train items= 94\n",
            "after filtering train set items for person  -8.243020848740767e+18  =  986\n",
            "first rank =  457\n",
            "number of train items= 29\n",
            "after filtering train set items for person  1.9490090701025236e+18  =  970\n",
            "first rank =  57\n",
            "number of train items= 58\n",
            "after filtering train set items for person  1.766257854965202e+18  =  983\n",
            "first rank =  336\n",
            "number of train items= 22\n",
            "after filtering train set items for person  -3.4741522593718953e+18  =  976\n",
            "first rank =  598\n",
            "number of train items= 57\n",
            "after filtering train set items for person  -2.9795370124056074e+18  =  976\n",
            "first rank =  193\n",
            "number of train items= 46\n",
            "after filtering train set items for person  -5.230721907253934e+18  =  963\n",
            "first rank =  237\n",
            "number of train items= 73\n",
            "after filtering train set items for person  -6.878112296616606e+18  =  986\n",
            "first rank =  54\n",
            "number of train items= 26\n",
            "after filtering train set items for person  3.93864525770238e+18  =  956\n",
            "first rank =  5\n",
            "number of train items= 100\n",
            "after filtering train set items for person  9.210530975708218e+18  =  978\n",
            "first rank =  28\n",
            "number of train items= 30\n",
            "after filtering train set items for person  -7.45648875375408e+18  =  977\n",
            "first rank =  232\n",
            "number of train items= 32\n",
            "after filtering train set items for person  -6.532175987346601e+18  =  987\n",
            "first rank =  150\n",
            "number of train items= 23\n",
            "after filtering train set items for person  -5.345498635267374e+17  =  963\n",
            "first rank =  42\n",
            "number of train items= 87\n",
            "after filtering train set items for person  6.936655678723704e+17  =  982\n",
            "first rank =  36\n",
            "number of train items= 32\n",
            "after filtering train set items for person  -8.853658195208337e+18  =  967\n",
            "first rank =  21\n",
            "number of train items= 56\n",
            "after filtering train set items for person  2.5512214421686584e+18  =  963\n",
            "first rank =  31\n",
            "number of train items= 77\n",
            "after filtering train set items for person  6.960073744377755e+18  =  987\n",
            "first rank =  167\n",
            "number of train items= 26\n",
            "after filtering train set items for person  1.7481626476711555e+18  =  992\n",
            "first rank =  45\n",
            "number of train items= 21\n",
            "after filtering train set items for person  -5.88447608033313e+17  =  990\n",
            "first rank =  4\n",
            "number of train items= 23\n",
            "after filtering train set items for person  4.5318721670621425e+18  =  978\n",
            "first rank =  5\n",
            "number of train items= 25\n",
            "after filtering train set items for person  -7.13651124767043e+18  =  985\n",
            "first rank =  29\n",
            "number of train items= 28\n",
            "after filtering train set items for person  1.9083391608575127e+18  =  977\n",
            "first rank =  256\n",
            "number of train items= 32\n",
            "after filtering train set items for person  2.2763587941636336e+16  =  969\n",
            "first rank =  22\n",
            "number of train items= 49\n",
            "after filtering train set items for person  5.660542693104786e+18  =  956\n",
            "first rank =  5\n",
            "number of train items= 53\n",
            "after filtering train set items for person  -5.04650979303113e+18  =  990\n",
            "first rank =  182\n",
            "number of train items= 24\n",
            "after filtering train set items for person  3.951178344539493e+18  =  993\n",
            "first rank =  38\n",
            "number of train items= 21\n",
            "after filtering train set items for person  8.239286975497581e+18  =  987\n",
            "first rank =  432\n",
            "number of train items= 29\n",
            "after filtering train set items for person  6.464364285286199e+18  =  950\n",
            "first rank =  14\n",
            "number of train items= 76\n",
            "after filtering train set items for person  2.0626705025329326e+18  =  981\n",
            "first rank =  8\n",
            "number of train items= 42\n",
            "after filtering train set items for person  -1.6169039692059766e+18  =  974\n",
            "first rank =  2\n",
            "number of train items= 40\n",
            "after filtering train set items for person  -3.216836291203563e+18  =  983\n",
            "first rank =  264\n",
            "number of train items= 31\n",
            "after filtering train set items for person  -3.3256856343185126e+18  =  982\n",
            "first rank =  1\n",
            "number of train items= 32\n",
            "after filtering train set items for person  -3.5006610079571564e+18  =  984\n",
            "first rank =  16\n",
            "number of train items= 31\n",
            "after filtering train set items for person  -3.3106662516716806e+17  =  976\n",
            "first rank =  33\n",
            "number of train items= 38\n",
            "after filtering train set items for person  -4.028919343899978e+18  =  969\n",
            "first rank =  27\n",
            "number of train items= 49\n",
            "after filtering train set items for person  3.429602690322214e+18  =  974\n",
            "first rank =  19\n",
            "number of train items= 49\n",
            "after filtering train set items for person  -4.3124943968886676e+18  =  981\n",
            "first rank =  125\n",
            "number of train items= 33\n",
            "after filtering train set items for person  -2.9019972431664184e+18  =  958\n",
            "first rank =  63\n",
            "number of train items= 52\n",
            "after filtering train set items for person  -1.257176162426023e+18  =  982\n",
            "first rank =  67\n",
            "number of train items= 28\n",
            "after filtering train set items for person  5.512723557838096e+18  =  989\n",
            "first rank =  46\n",
            "number of train items= 31\n",
            "after filtering train set items for person  -5.527145562136414e+18  =  981\n",
            "first rank =  205\n",
            "number of train items= 45\n",
            "after filtering train set items for person  4.670267857749552e+18  =  980\n",
            "first rank =  313\n",
            "number of train items= 32\n",
            "after filtering train set items for person  -4.4659267970084244e+18  =  983\n",
            "first rank =  139\n",
            "number of train items= 25\n",
            "after filtering train set items for person  8.676130229735483e+18  =  973\n",
            "first rank =  8\n",
            "number of train items= 53\n",
            "after filtering train set items for person  -8.674958742744576e+18  =  982\n",
            "first rank =  24\n",
            "number of train items= 32\n",
            "after filtering train set items for person  8.855523843512271e+18  =  986\n",
            "first rank =  15\n",
            "number of train items= 27\n",
            "after filtering train set items for person  -6.527231059484292e+18  =  991\n",
            "first rank =  6\n",
            "number of train items= 37\n",
            "after filtering train set items for person  -6.34700713754709e+18  =  982\n",
            "first rank =  58\n",
            "number of train items= 30\n",
            "after filtering train set items for person  2.2171855369261414e+18  =  984\n",
            "first rank =  179\n",
            "number of train items= 25\n",
            "after filtering train set items for person  6.756039155228175e+18  =  979\n",
            "first rank =  51\n",
            "number of train items= 35\n",
            "after filtering train set items for person  8.414731042150985e+18  =  985\n",
            "first rank =  44\n",
            "number of train items= 36\n",
            "after filtering train set items for person  -2.5118555973921464e+18  =  949\n",
            "first rank =  1\n",
            "number of train items= 99\n",
            "after filtering train set items for person  -8.60673756047959e+18  =  980\n",
            "first rank =  92\n",
            "number of train items= 29\n",
            "after filtering train set items for person  -5.070718731712625e+18  =  984\n",
            "first rank =  115\n",
            "number of train items= 25\n",
            "after filtering train set items for person  7.645894863578716e+18  =  972\n",
            "first rank =  209\n",
            "number of train items= 50\n",
            "after filtering train set items for person  -4.752363236131441e+18  =  983\n",
            "first rank =  16\n",
            "number of train items= 24\n",
            "after filtering train set items for person  -4.921795826390584e+17  =  988\n",
            "first rank =  36\n",
            "number of train items= 20\n",
            "after filtering train set items for person  -1.1302722942469832e+18  =  972\n",
            "first rank =  112\n",
            "number of train items= 46\n",
            "after filtering train set items for person  7.527226129639571e+18  =  985\n",
            "first rank =  115\n",
            "number of train items= 23\n",
            "after filtering train set items for person  -2.7267217975887713e+18  =  978\n",
            "first rank =  185\n",
            "number of train items= 33\n",
            "after filtering train set items for person  -2.0506994588650522e+18  =  986\n",
            "first rank =  81\n",
            "number of train items= 29\n",
            "after filtering train set items for person  -3.542895710527099e+16  =  986\n",
            "first rank =  273\n",
            "number of train items= 29\n",
            "after filtering train set items for person  3.014351446654477e+17  =  979\n",
            "first rank =  81\n",
            "number of train items= 47\n",
            "after filtering train set items for person  6.226325986476849e+18  =  982\n",
            "first rank =  34\n",
            "number of train items= 36\n",
            "after filtering train set items for person  -5.375964707198877e+18  =  983\n",
            "first rank =  37\n",
            "number of train items= 21\n",
            "after filtering train set items for person  3.1067600291362053e+18  =  989\n",
            "first rank =  17\n",
            "number of train items= 20\n",
            "after filtering train set items for person  -1.6845667413137444e+18  =  990\n",
            "first rank =  281\n",
            "number of train items= 26\n",
            "after filtering train set items for person  2.9479638736285563e+18  =  990\n",
            "first rank =  411\n",
            "number of train items= 24\n",
            "after filtering train set items for person  4.3451701761449594e+17  =  987\n",
            "first rank =  386\n",
            "number of train items= 31\n",
            "after filtering train set items for person  7.020155836312305e+18  =  986\n",
            "first rank =  491\n",
            "number of train items= 21\n",
            "after filtering train set items for person  6.947583688031316e+18  =  986\n",
            "first rank =  68\n",
            "number of train items= 29\n",
            "after filtering train set items for person  -7.267769888748948e+18  =  955\n",
            "first rank =  158\n",
            "number of train items= 90\n",
            "after filtering train set items for person  7.591088849912179e+18  =  987\n",
            "first rank =  57\n",
            "number of train items= 21\n",
            "after filtering train set items for person  -2.5253803835412874e+18  =  990\n",
            "first rank =  72\n",
            "number of train items= 18\n",
            "after filtering train set items for person  -5.867382161915899e+18  =  980\n",
            "first rank =  20\n",
            "number of train items= 30\n",
            "after filtering train set items for person  -7.656701953949776e+18  =  990\n",
            "first rank =  253\n",
            "number of train items= 21\n",
            "after filtering train set items for person  7.308881151087126e+18  =  989\n",
            "first rank =  382\n",
            "number of train items= 22\n",
            "after filtering train set items for person  -5.823562314929634e+18  =  981\n",
            "first rank =  2\n",
            "number of train items= 21\n",
            "after filtering train set items for person  -4.585796377251906e+18  =  988\n",
            "first rank =  503\n",
            "number of train items= 22\n",
            "after filtering train set items for person  8.237333675050684e+18  =  988\n",
            "first rank =  10\n",
            "number of train items= 22\n",
            "after filtering train set items for person  -6.34318177541616e+17  =  981\n",
            "first rank =  9\n",
            "number of train items= 25\n",
            "after filtering train set items for person  -4.627026983118549e+18  =  986\n",
            "first rank =  64\n",
            "number of train items= 22\n",
            "after filtering train set items for person  6.749470250870858e+17  =  990\n",
            "first rank =  58\n",
            "number of train items= 34\n",
            "after filtering train set items for person  -8.241940599580729e+18  =  988\n",
            "first rank =  1\n",
            "number of train items= 22\n",
            "after filtering train set items for person  -2.820994773540913e+18  =  981\n",
            "first rank =  136\n",
            "number of train items= 39\n",
            "after filtering train set items for person  -1.8635446895238925e+18  =  971\n",
            "first rank =  24\n",
            "number of train items= 41\n",
            "mrr =  0.11267487813647986\n"
          ],
          "name": "stdout"
        }
      ]
    }
  ]
}