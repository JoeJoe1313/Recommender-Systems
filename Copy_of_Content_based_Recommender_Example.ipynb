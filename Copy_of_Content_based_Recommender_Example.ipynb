{
  "nbformat": 4,
  "nbformat_minor": 0,
  "metadata": {
    "colab": {
      "name": "Copy of Content_based_Recommender_Example.ipynb",
      "provenance": [],
      "collapsed_sections": [],
      "include_colab_link": true
    },
    "kernelspec": {
      "name": "python3",
      "display_name": "Python 3"
    }
  },
  "cells": [
    {
      "cell_type": "markdown",
      "metadata": {
        "id": "view-in-github",
        "colab_type": "text"
      },
      "source": [
        "<a href=\"https://colab.research.google.com/github/JoeJoe1313/Recommender-Systems/blob/master/Copy_of_Content_based_Recommender_Example.ipynb\" target=\"_parent\"><img src=\"https://colab.research.google.com/assets/colab-badge.svg\" alt=\"Open In Colab\"/></a>"
      ]
    },
    {
      "cell_type": "markdown",
      "metadata": {
        "id": "1ANFqOIzHA0J"
      },
      "source": [
        "#Intro"
      ]
    },
    {
      "cell_type": "markdown",
      "metadata": {
        "id": "rTaGb0VSIJcE"
      },
      "source": [
        "#Imports"
      ]
    },
    {
      "cell_type": "code",
      "metadata": {
        "id": "foumIYfrIMa9"
      },
      "source": [
        "import matplotlib.pyplot as plt\n",
        "import nltk\n",
        "import pandas as pd\n",
        "import scipy\n",
        "import sklearn\n",
        "from nltk.corpus import stopwords\n",
        "from sklearn.feature_extraction.text import TfidfVectorizer\n",
        "from sklearn.metrics.pairwise import cosine_similarity\n",
        "from sklearn.model_selection import train_test_split"
      ],
      "execution_count": null,
      "outputs": []
    },
    {
      "cell_type": "markdown",
      "metadata": {
        "id": "-rT1F4u9HG6F"
      },
      "source": [
        "#Data\n"
      ]
    },
    {
      "cell_type": "markdown",
      "metadata": {
        "id": "fFOT_ZZoHMHN"
      },
      "source": [
        "## Data Downloading\n"
      ]
    },
    {
      "cell_type": "code",
      "metadata": {
        "id": "8Um7Vlf4HgfV",
        "colab": {
          "base_uri": "https://localhost:8080/"
        },
        "outputId": "4e69d435-587c-461f-b1e6-bdb3c2031337"
      },
      "source": [
        "!gsutil cp -r gs://rec-sys-fmi/hw2-dataset .\n",
        "!ls ."
      ],
      "execution_count": null,
      "outputs": [
        {
          "output_type": "stream",
          "text": [
            "Copying gs://rec-sys-fmi/hw2-dataset/shared_articles.csv...\n",
            "Copying gs://rec-sys-fmi/hw2-dataset/users_interactions.csv...\n",
            "\n",
            "Operation completed over 2 objects/28.6 MiB.                                     \n",
            "hw2-dataset  sample_data\n"
          ],
          "name": "stdout"
        }
      ]
    },
    {
      "cell_type": "markdown",
      "metadata": {
        "id": "gDyUjRKkHONq"
      },
      "source": [
        "##EDA"
      ]
    },
    {
      "cell_type": "code",
      "metadata": {
        "id": "PHDZPbZRHidU"
      },
      "source": [
        "interactions_df = pd.read_csv('hw2-dataset/users_interactions.csv')\n",
        "articles_df = pd.read_csv('hw2-dataset/shared_articles.csv')"
      ],
      "execution_count": null,
      "outputs": []
    },
    {
      "cell_type": "markdown",
      "metadata": {
        "id": "Rd_X9FueOFKB"
      },
      "source": [
        "###user interactions EDA and cleaning\n"
      ]
    },
    {
      "cell_type": "code",
      "metadata": {
        "colab": {
          "base_uri": "https://localhost:8080/"
        },
        "id": "UNHIQZ83zawv",
        "outputId": "9ae21e8a-e997-4b70-ca9b-8678fdc16da3"
      },
      "source": [
        "interactions_df.shape"
      ],
      "execution_count": null,
      "outputs": [
        {
          "output_type": "execute_result",
          "data": {
            "text/plain": [
              "(72312, 8)"
            ]
          },
          "metadata": {
            "tags": []
          },
          "execution_count": 4
        }
      ]
    },
    {
      "cell_type": "code",
      "metadata": {
        "id": "razqb92bI2qc",
        "colab": {
          "base_uri": "https://localhost:8080/",
          "height": 111
        },
        "outputId": "88ff7234-00f2-4064-c281-bcd24465b3b6"
      },
      "source": [
        "interactions_df[:2]"
      ],
      "execution_count": null,
      "outputs": [
        {
          "output_type": "execute_result",
          "data": {
            "text/html": [
              "<div>\n",
              "<style scoped>\n",
              "    .dataframe tbody tr th:only-of-type {\n",
              "        vertical-align: middle;\n",
              "    }\n",
              "\n",
              "    .dataframe tbody tr th {\n",
              "        vertical-align: top;\n",
              "    }\n",
              "\n",
              "    .dataframe thead th {\n",
              "        text-align: right;\n",
              "    }\n",
              "</style>\n",
              "<table border=\"1\" class=\"dataframe\">\n",
              "  <thead>\n",
              "    <tr style=\"text-align: right;\">\n",
              "      <th></th>\n",
              "      <th>timestamp</th>\n",
              "      <th>eventType</th>\n",
              "      <th>contentId</th>\n",
              "      <th>personId</th>\n",
              "      <th>sessionId</th>\n",
              "      <th>userAgent</th>\n",
              "      <th>userRegion</th>\n",
              "      <th>userCountry</th>\n",
              "    </tr>\n",
              "  </thead>\n",
              "  <tbody>\n",
              "    <tr>\n",
              "      <th>0</th>\n",
              "      <td>1465413032</td>\n",
              "      <td>VIEW</td>\n",
              "      <td>-3499919498720038879</td>\n",
              "      <td>-8845298781299428018</td>\n",
              "      <td>1264196770339959068</td>\n",
              "      <td>NaN</td>\n",
              "      <td>NaN</td>\n",
              "      <td>NaN</td>\n",
              "    </tr>\n",
              "    <tr>\n",
              "      <th>1</th>\n",
              "      <td>1465412560</td>\n",
              "      <td>VIEW</td>\n",
              "      <td>8890720798209849691</td>\n",
              "      <td>-1032019229384696495</td>\n",
              "      <td>3621737643587579081</td>\n",
              "      <td>Mozilla/5.0 (Macintosh; Intel Mac OS X 10_11_2...</td>\n",
              "      <td>NY</td>\n",
              "      <td>US</td>\n",
              "    </tr>\n",
              "  </tbody>\n",
              "</table>\n",
              "</div>"
            ],
            "text/plain": [
              "    timestamp eventType  ...  userRegion  userCountry\n",
              "0  1465413032      VIEW  ...         NaN          NaN\n",
              "1  1465412560      VIEW  ...          NY           US\n",
              "\n",
              "[2 rows x 8 columns]"
            ]
          },
          "metadata": {
            "tags": []
          },
          "execution_count": 5
        }
      ]
    },
    {
      "cell_type": "code",
      "metadata": {
        "colab": {
          "base_uri": "https://localhost:8080/"
        },
        "id": "KVmq2Wdh0SKK",
        "outputId": "8706bfc2-ae2f-4115-b90a-b415b2c9c4cf"
      },
      "source": [
        "interactions_df.isna().value_counts()\n",
        "#i would not take into account the columns userAgent, userRegion, userCountry "
      ],
      "execution_count": null,
      "outputs": [
        {
          "output_type": "execute_result",
          "data": {
            "text/plain": [
              "timestamp  eventType  contentId  personId  sessionId  userAgent  userRegion  userCountry\n",
              "False      False      False      False     False      False      False       False          56907\n",
              "                                                      True       True        True           15394\n",
              "                                                      False      True        False             11\n",
              "dtype: int64"
            ]
          },
          "metadata": {
            "tags": []
          },
          "execution_count": 6
        }
      ]
    },
    {
      "cell_type": "code",
      "metadata": {
        "colab": {
          "base_uri": "https://localhost:8080/"
        },
        "id": "biAzbxnsyNt4",
        "outputId": "1453407c-ffbb-4a98-fb12-1b0161d61409"
      },
      "source": [
        "#number of distinct users\r\n",
        "distinct_users = interactions_df['personId'].value_counts() # interactions per user\r\n",
        "len(distinct_users)"
      ],
      "execution_count": null,
      "outputs": [
        {
          "output_type": "execute_result",
          "data": {
            "text/plain": [
              "1895"
            ]
          },
          "metadata": {
            "tags": []
          },
          "execution_count": 7
        }
      ]
    },
    {
      "cell_type": "code",
      "metadata": {
        "colab": {
          "base_uri": "https://localhost:8080/",
          "height": 297
        },
        "id": "fqVybDEf2hdU",
        "outputId": "2e4e6904-cee8-483f-c3e4-8cfae31bde6f"
      },
      "source": [
        "# interactions per user\n",
        "plt.plot(distinct_users.values) # distinct_users is of type series \n",
        "plt.tight_layout()\n",
        "plt.show()"
      ],
      "execution_count": null,
      "outputs": [
        {
          "output_type": "display_data",
          "data": {
            "image/png": "[encoded data removed]",
            "text/plain": [
              "<Figure size 432x288 with 1 Axes>"
            ]
          },
          "metadata": {
            "tags": [],
            "needs_background": "light"
          }
        }
      ]
    },
    {
      "cell_type": "code",
      "metadata": {
        "colab": {
          "base_uri": "https://localhost:8080/",
          "height": 419
        },
        "id": "CQXw90M-UFN4",
        "outputId": "4db481a5-2de4-465c-f352-27360525e17f"
      },
      "source": [
        "interactions_df = interactions_df[['contentId', 'personId', 'eventType']]\n",
        "interactions_df"
      ],
      "execution_count": null,
      "outputs": [
        {
          "output_type": "execute_result",
          "data": {
            "text/html": [
              "<div>\n",
              "<style scoped>\n",
              "    .dataframe tbody tr th:only-of-type {\n",
              "        vertical-align: middle;\n",
              "    }\n",
              "\n",
              "    .dataframe tbody tr th {\n",
              "        vertical-align: top;\n",
              "    }\n",
              "\n",
              "    .dataframe thead th {\n",
              "        text-align: right;\n",
              "    }\n",
              "</style>\n",
              "<table border=\"1\" class=\"dataframe\">\n",
              "  <thead>\n",
              "    <tr style=\"text-align: right;\">\n",
              "      <th></th>\n",
              "      <th>contentId</th>\n",
              "      <th>personId</th>\n",
              "      <th>eventType</th>\n",
              "    </tr>\n",
              "  </thead>\n",
              "  <tbody>\n",
              "    <tr>\n",
              "      <th>0</th>\n",
              "      <td>-3499919498720038879</td>\n",
              "      <td>-8845298781299428018</td>\n",
              "      <td>VIEW</td>\n",
              "    </tr>\n",
              "    <tr>\n",
              "      <th>1</th>\n",
              "      <td>8890720798209849691</td>\n",
              "      <td>-1032019229384696495</td>\n",
              "      <td>VIEW</td>\n",
              "    </tr>\n",
              "    <tr>\n",
              "      <th>2</th>\n",
              "      <td>310515487419366995</td>\n",
              "      <td>-1130272294246983140</td>\n",
              "      <td>VIEW</td>\n",
              "    </tr>\n",
              "    <tr>\n",
              "      <th>3</th>\n",
              "      <td>310515487419366995</td>\n",
              "      <td>344280948527967603</td>\n",
              "      <td>FOLLOW</td>\n",
              "    </tr>\n",
              "    <tr>\n",
              "      <th>4</th>\n",
              "      <td>-7820640624231356730</td>\n",
              "      <td>-445337111692715325</td>\n",
              "      <td>VIEW</td>\n",
              "    </tr>\n",
              "    <tr>\n",
              "      <th>...</th>\n",
              "      <td>...</td>\n",
              "      <td>...</td>\n",
              "      <td>...</td>\n",
              "    </tr>\n",
              "    <tr>\n",
              "      <th>72307</th>\n",
              "      <td>-6590819806697898649</td>\n",
              "      <td>-9016528795238256703</td>\n",
              "      <td>LIKE</td>\n",
              "    </tr>\n",
              "    <tr>\n",
              "      <th>72308</th>\n",
              "      <td>-5813211845057621660</td>\n",
              "      <td>102305705598210278</td>\n",
              "      <td>VIEW</td>\n",
              "    </tr>\n",
              "    <tr>\n",
              "      <th>72309</th>\n",
              "      <td>-1999468346928419252</td>\n",
              "      <td>-9196668942822132778</td>\n",
              "      <td>VIEW</td>\n",
              "    </tr>\n",
              "    <tr>\n",
              "      <th>72310</th>\n",
              "      <td>-6590819806697898649</td>\n",
              "      <td>-9016528795238256703</td>\n",
              "      <td>VIEW</td>\n",
              "    </tr>\n",
              "    <tr>\n",
              "      <th>72311</th>\n",
              "      <td>5669290109546991426</td>\n",
              "      <td>5713241217519616260</td>\n",
              "      <td>VIEW</td>\n",
              "    </tr>\n",
              "  </tbody>\n",
              "</table>\n",
              "<p>72312 rows × 3 columns</p>\n",
              "</div>"
            ],
            "text/plain": [
              "                 contentId             personId eventType\n",
              "0     -3499919498720038879 -8845298781299428018      VIEW\n",
              "1      8890720798209849691 -1032019229384696495      VIEW\n",
              "2       310515487419366995 -1130272294246983140      VIEW\n",
              "3       310515487419366995   344280948527967603    FOLLOW\n",
              "4     -7820640624231356730  -445337111692715325      VIEW\n",
              "...                    ...                  ...       ...\n",
              "72307 -6590819806697898649 -9016528795238256703      LIKE\n",
              "72308 -5813211845057621660   102305705598210278      VIEW\n",
              "72309 -1999468346928419252 -9196668942822132778      VIEW\n",
              "72310 -6590819806697898649 -9016528795238256703      VIEW\n",
              "72311  5669290109546991426  5713241217519616260      VIEW\n",
              "\n",
              "[72312 rows x 3 columns]"
            ]
          },
          "metadata": {
            "tags": []
          },
          "execution_count": 9
        }
      ]
    },
    {
      "cell_type": "code",
      "metadata": {
        "id": "xjb8wzLKOcpN",
        "colab": {
          "base_uri": "https://localhost:8080/"
        },
        "outputId": "6d93d724-84b5-40dc-8c78-1309fcf7aa9e"
      },
      "source": [
        "interactions_df['eventType'].value_counts()"
      ],
      "execution_count": null,
      "outputs": [
        {
          "output_type": "execute_result",
          "data": {
            "text/plain": [
              "VIEW               61086\n",
              "LIKE                5745\n",
              "BOOKMARK            2463\n",
              "COMMENT CREATED     1611\n",
              "FOLLOW              1407\n",
              "Name: eventType, dtype: int64"
            ]
          },
          "metadata": {
            "tags": []
          },
          "execution_count": 10
        }
      ]
    },
    {
      "cell_type": "code",
      "metadata": {
        "id": "8jrEKmQOU0IO"
      },
      "source": [
        "# will leave only one record for user content, as in order to combine the diffent events will score them - view is implicit preference so 1 point, \n",
        "# like/comment/bookmark/follow are explicit/implicit preferences that probably the user like it so 5 points. after that will \n",
        "# aggragete with leaving the highest score, so if user viewed,liked and comment the score will still be 5(not higher)\n",
        "\n",
        "# use different values for the events \n",
        "di = {\n",
        "    'VIEW': 1.0, \n",
        "    'LIKE': 2.0,\n",
        "    'BOOKMARK': 2.5,\n",
        "    'COMMENT CREATED': 4.0,\n",
        "    'FOLLOW': 3.0\n",
        "} \n",
        "interactions_df['prefScore'] = interactions_df['eventType'].map(di)\n",
        "\n",
        "# change the min prefScore due to changed event type values \n",
        "# use such a number that a similar number of people are filtered \n",
        "MIN_PREF_SCORE = 23.5"
      ],
      "execution_count": null,
      "outputs": []
    },
    {
      "cell_type": "code",
      "metadata": {
        "colab": {
          "base_uri": "https://localhost:8080/",
          "height": 419
        },
        "id": "5jdVCPbY82RO",
        "outputId": "aada5ff7-a4c3-4496-f3c7-e36c0153f81e"
      },
      "source": [
        "interactions_df = interactions_df.groupby(['contentId', 'personId']).max().reset_index()\n",
        "interactions_df"
      ],
      "execution_count": null,
      "outputs": [
        {
          "output_type": "execute_result",
          "data": {
            "text/html": [
              "<div>\n",
              "<style scoped>\n",
              "    .dataframe tbody tr th:only-of-type {\n",
              "        vertical-align: middle;\n",
              "    }\n",
              "\n",
              "    .dataframe tbody tr th {\n",
              "        vertical-align: top;\n",
              "    }\n",
              "\n",
              "    .dataframe thead th {\n",
              "        text-align: right;\n",
              "    }\n",
              "</style>\n",
              "<table border=\"1\" class=\"dataframe\">\n",
              "  <thead>\n",
              "    <tr style=\"text-align: right;\">\n",
              "      <th></th>\n",
              "      <th>contentId</th>\n",
              "      <th>personId</th>\n",
              "      <th>eventType</th>\n",
              "      <th>prefScore</th>\n",
              "    </tr>\n",
              "  </thead>\n",
              "  <tbody>\n",
              "    <tr>\n",
              "      <th>0</th>\n",
              "      <td>-9222795471790223670</td>\n",
              "      <td>-6944500707172804068</td>\n",
              "      <td>LIKE</td>\n",
              "      <td>2.0</td>\n",
              "    </tr>\n",
              "    <tr>\n",
              "      <th>1</th>\n",
              "      <td>-9222795471790223670</td>\n",
              "      <td>-5868110530814399805</td>\n",
              "      <td>VIEW</td>\n",
              "      <td>3.0</td>\n",
              "    </tr>\n",
              "    <tr>\n",
              "      <th>2</th>\n",
              "      <td>-9222795471790223670</td>\n",
              "      <td>-1032019229384696495</td>\n",
              "      <td>VIEW</td>\n",
              "      <td>4.0</td>\n",
              "    </tr>\n",
              "    <tr>\n",
              "      <th>3</th>\n",
              "      <td>-9222795471790223670</td>\n",
              "      <td>1895326251577378793</td>\n",
              "      <td>VIEW</td>\n",
              "      <td>4.0</td>\n",
              "    </tr>\n",
              "    <tr>\n",
              "      <th>4</th>\n",
              "      <td>-9222795471790223670</td>\n",
              "      <td>8968131284214320024</td>\n",
              "      <td>VIEW</td>\n",
              "      <td>2.0</td>\n",
              "    </tr>\n",
              "    <tr>\n",
              "      <th>...</th>\n",
              "      <td>...</td>\n",
              "      <td>...</td>\n",
              "      <td>...</td>\n",
              "      <td>...</td>\n",
              "    </tr>\n",
              "    <tr>\n",
              "      <th>40705</th>\n",
              "      <td>9222265156747237864</td>\n",
              "      <td>-7540738139248278851</td>\n",
              "      <td>VIEW</td>\n",
              "      <td>1.0</td>\n",
              "    </tr>\n",
              "    <tr>\n",
              "      <th>40706</th>\n",
              "      <td>9222265156747237864</td>\n",
              "      <td>-3596626804281480007</td>\n",
              "      <td>VIEW</td>\n",
              "      <td>1.0</td>\n",
              "    </tr>\n",
              "    <tr>\n",
              "      <th>40707</th>\n",
              "      <td>9222265156747237864</td>\n",
              "      <td>692689608292948411</td>\n",
              "      <td>VIEW</td>\n",
              "      <td>1.0</td>\n",
              "    </tr>\n",
              "    <tr>\n",
              "      <th>40708</th>\n",
              "      <td>9222265156747237864</td>\n",
              "      <td>2873028073541627603</td>\n",
              "      <td>VIEW</td>\n",
              "      <td>1.0</td>\n",
              "    </tr>\n",
              "    <tr>\n",
              "      <th>40709</th>\n",
              "      <td>9222265156747237864</td>\n",
              "      <td>6464364285286199002</td>\n",
              "      <td>VIEW</td>\n",
              "      <td>1.0</td>\n",
              "    </tr>\n",
              "  </tbody>\n",
              "</table>\n",
              "<p>40710 rows × 4 columns</p>\n",
              "</div>"
            ],
            "text/plain": [
              "                 contentId             personId eventType  prefScore\n",
              "0     -9222795471790223670 -6944500707172804068      LIKE        2.0\n",
              "1     -9222795471790223670 -5868110530814399805      VIEW        3.0\n",
              "2     -9222795471790223670 -1032019229384696495      VIEW        4.0\n",
              "3     -9222795471790223670  1895326251577378793      VIEW        4.0\n",
              "4     -9222795471790223670  8968131284214320024      VIEW        2.0\n",
              "...                    ...                  ...       ...        ...\n",
              "40705  9222265156747237864 -7540738139248278851      VIEW        1.0\n",
              "40706  9222265156747237864 -3596626804281480007      VIEW        1.0\n",
              "40707  9222265156747237864   692689608292948411      VIEW        1.0\n",
              "40708  9222265156747237864  2873028073541627603      VIEW        1.0\n",
              "40709  9222265156747237864  6464364285286199002      VIEW        1.0\n",
              "\n",
              "[40710 rows x 4 columns]"
            ]
          },
          "metadata": {
            "tags": []
          },
          "execution_count": 12
        }
      ]
    },
    {
      "cell_type": "code",
      "metadata": {
        "id": "j0PdtUn3XM9W",
        "colab": {
          "base_uri": "https://localhost:8080/",
          "height": 419
        },
        "outputId": "57154cd1-219a-4664-af9d-d938f5442dd9"
      },
      "source": [
        "# for the cold start problem\n",
        "# lets drop all the users for which we don't have at least 5*6 scores (5 explicit prefenrences or correspondant number of implicit ones)\n",
        "interactions_count_df = interactions_df.groupby('personId').sum('prefScore')\n",
        "enough_interactions_df = interactions_count_df[interactions_count_df['prefScore'] >= MIN_PREF_SCORE].reset_index()[['personId', 'prefScore']]\n",
        "enough_interactions_df"
      ],
      "execution_count": null,
      "outputs": [
        {
          "output_type": "execute_result",
          "data": {
            "text/html": [
              "<div>\n",
              "<style scoped>\n",
              "    .dataframe tbody tr th:only-of-type {\n",
              "        vertical-align: middle;\n",
              "    }\n",
              "\n",
              "    .dataframe tbody tr th {\n",
              "        vertical-align: top;\n",
              "    }\n",
              "\n",
              "    .dataframe thead th {\n",
              "        text-align: right;\n",
              "    }\n",
              "</style>\n",
              "<table border=\"1\" class=\"dataframe\">\n",
              "  <thead>\n",
              "    <tr style=\"text-align: right;\">\n",
              "      <th></th>\n",
              "      <th>personId</th>\n",
              "      <th>prefScore</th>\n",
              "    </tr>\n",
              "  </thead>\n",
              "  <tbody>\n",
              "    <tr>\n",
              "      <th>0</th>\n",
              "      <td>-9223121837663643404</td>\n",
              "      <td>44.0</td>\n",
              "    </tr>\n",
              "    <tr>\n",
              "      <th>1</th>\n",
              "      <td>-9172914609055320039</td>\n",
              "      <td>24.0</td>\n",
              "    </tr>\n",
              "    <tr>\n",
              "      <th>2</th>\n",
              "      <td>-9120685872592674274</td>\n",
              "      <td>50.0</td>\n",
              "    </tr>\n",
              "    <tr>\n",
              "      <th>3</th>\n",
              "      <td>-9109785559521267180</td>\n",
              "      <td>43.0</td>\n",
              "    </tr>\n",
              "    <tr>\n",
              "      <th>4</th>\n",
              "      <td>-9047547311469006438</td>\n",
              "      <td>25.5</td>\n",
              "    </tr>\n",
              "    <tr>\n",
              "      <th>...</th>\n",
              "      <td>...</td>\n",
              "      <td>...</td>\n",
              "    </tr>\n",
              "    <tr>\n",
              "      <th>468</th>\n",
              "      <td>8920667914865172372</td>\n",
              "      <td>33.5</td>\n",
              "    </tr>\n",
              "    <tr>\n",
              "      <th>469</th>\n",
              "      <td>8968131284214320024</td>\n",
              "      <td>195.5</td>\n",
              "    </tr>\n",
              "    <tr>\n",
              "      <th>470</th>\n",
              "      <td>9109075639526981934</td>\n",
              "      <td>103.0</td>\n",
              "    </tr>\n",
              "    <tr>\n",
              "      <th>471</th>\n",
              "      <td>9148269800512008413</td>\n",
              "      <td>87.5</td>\n",
              "    </tr>\n",
              "    <tr>\n",
              "      <th>472</th>\n",
              "      <td>9210530975708218054</td>\n",
              "      <td>91.0</td>\n",
              "    </tr>\n",
              "  </tbody>\n",
              "</table>\n",
              "<p>473 rows × 2 columns</p>\n",
              "</div>"
            ],
            "text/plain": [
              "                personId  prefScore\n",
              "0   -9223121837663643404       44.0\n",
              "1   -9172914609055320039       24.0\n",
              "2   -9120685872592674274       50.0\n",
              "3   -9109785559521267180       43.0\n",
              "4   -9047547311469006438       25.5\n",
              "..                   ...        ...\n",
              "468  8920667914865172372       33.5\n",
              "469  8968131284214320024      195.5\n",
              "470  9109075639526981934      103.0\n",
              "471  9148269800512008413       87.5\n",
              "472  9210530975708218054       91.0\n",
              "\n",
              "[473 rows x 2 columns]"
            ]
          },
          "metadata": {
            "tags": []
          },
          "execution_count": 13
        }
      ]
    },
    {
      "cell_type": "code",
      "metadata": {
        "id": "8Acp79HxosEH",
        "colab": {
          "base_uri": "https://localhost:8080/",
          "height": 297
        },
        "outputId": "4ea35a79-3ddb-489d-b1df-9b1c91ebf927"
      },
      "source": [
        "enough_interactions_df['prefScore'].hist(bins=100)\n",
        "plt.tight_layout()\n",
        "plt.show()"
      ],
      "execution_count": null,
      "outputs": [
        {
          "output_type": "display_data",
          "data": {
            "image/png": "[encoded data removed]",
            "text/plain": [
              "<Figure size 432x288 with 1 Axes>"
            ]
          },
          "metadata": {
            "tags": [],
            "needs_background": "light"
          }
        }
      ]
    },
    {
      "cell_type": "code",
      "metadata": {
        "id": "7WxbBmHsX8ql",
        "colab": {
          "base_uri": "https://localhost:8080/"
        },
        "outputId": "0a933310-e5b6-4178-9d3e-6d7883e1c273"
      },
      "source": [
        "interactions_from_selected_users_df = interactions_df.merge(\n",
        "    enough_interactions_df[['personId']], \n",
        "    how='right',\n",
        "    left_on='personId',\n",
        "    right_on='personId'\n",
        ")\n",
        "interactions_from_selected_users_df.shape"
      ],
      "execution_count": null,
      "outputs": [
        {
          "output_type": "execute_result",
          "data": {
            "text/plain": [
              "(32538, 4)"
            ]
          },
          "metadata": {
            "tags": []
          },
          "execution_count": 15
        }
      ]
    },
    {
      "cell_type": "code",
      "metadata": {
        "id": "hz3UlrzvsJ3i",
        "colab": {
          "base_uri": "https://localhost:8080/",
          "height": 419
        },
        "outputId": "e2dae386-595f-4265-8667-41c6bd6c247f"
      },
      "source": [
        "interactions_from_selected_users_df"
      ],
      "execution_count": null,
      "outputs": [
        {
          "output_type": "execute_result",
          "data": {
            "text/html": [
              "<div>\n",
              "<style scoped>\n",
              "    .dataframe tbody tr th:only-of-type {\n",
              "        vertical-align: middle;\n",
              "    }\n",
              "\n",
              "    .dataframe tbody tr th {\n",
              "        vertical-align: top;\n",
              "    }\n",
              "\n",
              "    .dataframe thead th {\n",
              "        text-align: right;\n",
              "    }\n",
              "</style>\n",
              "<table border=\"1\" class=\"dataframe\">\n",
              "  <thead>\n",
              "    <tr style=\"text-align: right;\">\n",
              "      <th></th>\n",
              "      <th>contentId</th>\n",
              "      <th>personId</th>\n",
              "      <th>eventType</th>\n",
              "      <th>prefScore</th>\n",
              "    </tr>\n",
              "  </thead>\n",
              "  <tbody>\n",
              "    <tr>\n",
              "      <th>0</th>\n",
              "      <td>-8949113594875411859</td>\n",
              "      <td>-9223121837663643404</td>\n",
              "      <td>VIEW</td>\n",
              "      <td>1.0</td>\n",
              "    </tr>\n",
              "    <tr>\n",
              "      <th>1</th>\n",
              "      <td>-8377626164558006982</td>\n",
              "      <td>-9223121837663643404</td>\n",
              "      <td>VIEW</td>\n",
              "      <td>1.0</td>\n",
              "    </tr>\n",
              "    <tr>\n",
              "      <th>2</th>\n",
              "      <td>-8208801367848627943</td>\n",
              "      <td>-9223121837663643404</td>\n",
              "      <td>VIEW</td>\n",
              "      <td>1.0</td>\n",
              "    </tr>\n",
              "    <tr>\n",
              "      <th>3</th>\n",
              "      <td>-8187220755213888616</td>\n",
              "      <td>-9223121837663643404</td>\n",
              "      <td>VIEW</td>\n",
              "      <td>1.0</td>\n",
              "    </tr>\n",
              "    <tr>\n",
              "      <th>4</th>\n",
              "      <td>-7423191370472335463</td>\n",
              "      <td>-9223121837663643404</td>\n",
              "      <td>VIEW</td>\n",
              "      <td>1.0</td>\n",
              "    </tr>\n",
              "    <tr>\n",
              "      <th>...</th>\n",
              "      <td>...</td>\n",
              "      <td>...</td>\n",
              "      <td>...</td>\n",
              "      <td>...</td>\n",
              "    </tr>\n",
              "    <tr>\n",
              "      <th>32533</th>\n",
              "      <td>8477804012624580461</td>\n",
              "      <td>9210530975708218054</td>\n",
              "      <td>VIEW</td>\n",
              "      <td>3.0</td>\n",
              "    </tr>\n",
              "    <tr>\n",
              "      <th>32534</th>\n",
              "      <td>8526042588044002101</td>\n",
              "      <td>9210530975708218054</td>\n",
              "      <td>VIEW</td>\n",
              "      <td>1.0</td>\n",
              "    </tr>\n",
              "    <tr>\n",
              "      <th>32535</th>\n",
              "      <td>8856169137131817223</td>\n",
              "      <td>9210530975708218054</td>\n",
              "      <td>VIEW</td>\n",
              "      <td>1.0</td>\n",
              "    </tr>\n",
              "    <tr>\n",
              "      <th>32536</th>\n",
              "      <td>8869347744613364434</td>\n",
              "      <td>9210530975708218054</td>\n",
              "      <td>VIEW</td>\n",
              "      <td>1.0</td>\n",
              "    </tr>\n",
              "    <tr>\n",
              "      <th>32537</th>\n",
              "      <td>9209886322932807692</td>\n",
              "      <td>9210530975708218054</td>\n",
              "      <td>VIEW</td>\n",
              "      <td>1.0</td>\n",
              "    </tr>\n",
              "  </tbody>\n",
              "</table>\n",
              "<p>32538 rows × 4 columns</p>\n",
              "</div>"
            ],
            "text/plain": [
              "                 contentId             personId eventType  prefScore\n",
              "0     -8949113594875411859 -9223121837663643404      VIEW        1.0\n",
              "1     -8377626164558006982 -9223121837663643404      VIEW        1.0\n",
              "2     -8208801367848627943 -9223121837663643404      VIEW        1.0\n",
              "3     -8187220755213888616 -9223121837663643404      VIEW        1.0\n",
              "4     -7423191370472335463 -9223121837663643404      VIEW        1.0\n",
              "...                    ...                  ...       ...        ...\n",
              "32533  8477804012624580461  9210530975708218054      VIEW        3.0\n",
              "32534  8526042588044002101  9210530975708218054      VIEW        1.0\n",
              "32535  8856169137131817223  9210530975708218054      VIEW        1.0\n",
              "32536  8869347744613364434  9210530975708218054      VIEW        1.0\n",
              "32537  9209886322932807692  9210530975708218054      VIEW        1.0\n",
              "\n",
              "[32538 rows x 4 columns]"
            ]
          },
          "metadata": {
            "tags": []
          },
          "execution_count": 16
        }
      ]
    },
    {
      "cell_type": "markdown",
      "metadata": {
        "id": "TUkSEBPeONGh"
      },
      "source": [
        "###arcticles EDA and cleaning"
      ]
    },
    {
      "cell_type": "code",
      "metadata": {
        "colab": {
          "base_uri": "https://localhost:8080/"
        },
        "id": "T5pZgLrKbx3H",
        "outputId": "ee303591-35de-4901-9631-02f457e69bae"
      },
      "source": [
        "articles_df.shape"
      ],
      "execution_count": null,
      "outputs": [
        {
          "output_type": "execute_result",
          "data": {
            "text/plain": [
              "(3122, 13)"
            ]
          },
          "metadata": {
            "tags": []
          },
          "execution_count": 17
        }
      ]
    },
    {
      "cell_type": "code",
      "metadata": {
        "id": "76dj5eQXJA7r",
        "colab": {
          "base_uri": "https://localhost:8080/",
          "height": 403
        },
        "outputId": "5a48c08a-9b42-4831-d42c-d79128bc6d41"
      },
      "source": [
        "articles_df[:2]"
      ],
      "execution_count": null,
      "outputs": [
        {
          "output_type": "execute_result",
          "data": {
            "text/html": [
              "<div>\n",
              "<style scoped>\n",
              "    .dataframe tbody tr th:only-of-type {\n",
              "        vertical-align: middle;\n",
              "    }\n",
              "\n",
              "    .dataframe tbody tr th {\n",
              "        vertical-align: top;\n",
              "    }\n",
              "\n",
              "    .dataframe thead th {\n",
              "        text-align: right;\n",
              "    }\n",
              "</style>\n",
              "<table border=\"1\" class=\"dataframe\">\n",
              "  <thead>\n",
              "    <tr style=\"text-align: right;\">\n",
              "      <th></th>\n",
              "      <th>timestamp</th>\n",
              "      <th>eventType</th>\n",
              "      <th>contentId</th>\n",
              "      <th>authorPersonId</th>\n",
              "      <th>authorSessionId</th>\n",
              "      <th>authorUserAgent</th>\n",
              "      <th>authorRegion</th>\n",
              "      <th>authorCountry</th>\n",
              "      <th>contentType</th>\n",
              "      <th>url</th>\n",
              "      <th>title</th>\n",
              "      <th>text</th>\n",
              "      <th>lang</th>\n",
              "    </tr>\n",
              "  </thead>\n",
              "  <tbody>\n",
              "    <tr>\n",
              "      <th>0</th>\n",
              "      <td>1459192779</td>\n",
              "      <td>CONTENT REMOVED</td>\n",
              "      <td>-6451309518266745024</td>\n",
              "      <td>4340306774493623681</td>\n",
              "      <td>8940341205206233829</td>\n",
              "      <td>NaN</td>\n",
              "      <td>NaN</td>\n",
              "      <td>NaN</td>\n",
              "      <td>HTML</td>\n",
              "      <td>http://www.nytimes.com/2016/03/28/business/dea...</td>\n",
              "      <td>Ethereum, a Virtual Currency, Enables Transact...</td>\n",
              "      <td>All of this work is still very early. The firs...</td>\n",
              "      <td>en</td>\n",
              "    </tr>\n",
              "    <tr>\n",
              "      <th>1</th>\n",
              "      <td>1459193988</td>\n",
              "      <td>CONTENT SHARED</td>\n",
              "      <td>-4110354420726924665</td>\n",
              "      <td>4340306774493623681</td>\n",
              "      <td>8940341205206233829</td>\n",
              "      <td>NaN</td>\n",
              "      <td>NaN</td>\n",
              "      <td>NaN</td>\n",
              "      <td>HTML</td>\n",
              "      <td>http://www.nytimes.com/2016/03/28/business/dea...</td>\n",
              "      <td>Ethereum, a Virtual Currency, Enables Transact...</td>\n",
              "      <td>All of this work is still very early. The firs...</td>\n",
              "      <td>en</td>\n",
              "    </tr>\n",
              "  </tbody>\n",
              "</table>\n",
              "</div>"
            ],
            "text/plain": [
              "    timestamp  ... lang\n",
              "0  1459192779  ...   en\n",
              "1  1459193988  ...   en\n",
              "\n",
              "[2 rows x 13 columns]"
            ]
          },
          "metadata": {
            "tags": []
          },
          "execution_count": 18
        }
      ]
    },
    {
      "cell_type": "code",
      "metadata": {
        "colab": {
          "base_uri": "https://localhost:8080/"
        },
        "id": "rhdXVd45b0yX",
        "outputId": "64550ea9-33b2-4e7e-c11e-fc7749db4996"
      },
      "source": [
        "articles_df.isna().value_counts()"
      ],
      "execution_count": null,
      "outputs": [
        {
          "output_type": "execute_result",
          "data": {
            "text/plain": [
              "timestamp  eventType  contentId  authorPersonId  authorSessionId  authorUserAgent  authorRegion  authorCountry  contentType  url    title  text   lang \n",
              "False      False      False      False           False            True             True          True           False        False  False  False  False    2442\n",
              "                                                                  False            False         False          False        False  False  False  False     680\n",
              "dtype: int64"
            ]
          },
          "metadata": {
            "tags": []
          },
          "execution_count": 19
        }
      ]
    },
    {
      "cell_type": "code",
      "metadata": {
        "id": "TVDso0LzLtoC",
        "colab": {
          "base_uri": "https://localhost:8080/"
        },
        "outputId": "ff6e7ba6-5af8-4cb7-c687-bf224d583b9f"
      },
      "source": [
        "articles_df['lang'].value_counts()"
      ],
      "execution_count": null,
      "outputs": [
        {
          "output_type": "execute_result",
          "data": {
            "text/plain": [
              "en    2264\n",
              "pt     850\n",
              "la       4\n",
              "ja       2\n",
              "es       2\n",
              "Name: lang, dtype: int64"
            ]
          },
          "metadata": {
            "tags": []
          },
          "execution_count": 20
        }
      ]
    },
    {
      "cell_type": "markdown",
      "metadata": {
        "id": "8imr-xEJJRiO"
      },
      "source": [
        "For our case of demonstrating content based filtering we are interested only in the PersonId-ContentId-Action information + the title and text of the Contents as we will left only english texts."
      ]
    },
    {
      "cell_type": "code",
      "metadata": {
        "id": "1xQj1rYQKuJx",
        "colab": {
          "base_uri": "https://localhost:8080/",
          "height": 111
        },
        "outputId": "b6a8eb5e-2875-48b6-cc23-4da7da5d1cf0"
      },
      "source": [
        "articles_df = articles_df[articles_df['lang'] == 'en']\n",
        "articles_df = articles_df[['contentId', 'title', 'text']]\n",
        "articles_df[0:2]"
      ],
      "execution_count": null,
      "outputs": [
        {
          "output_type": "execute_result",
          "data": {
            "text/html": [
              "<div>\n",
              "<style scoped>\n",
              "    .dataframe tbody tr th:only-of-type {\n",
              "        vertical-align: middle;\n",
              "    }\n",
              "\n",
              "    .dataframe tbody tr th {\n",
              "        vertical-align: top;\n",
              "    }\n",
              "\n",
              "    .dataframe thead th {\n",
              "        text-align: right;\n",
              "    }\n",
              "</style>\n",
              "<table border=\"1\" class=\"dataframe\">\n",
              "  <thead>\n",
              "    <tr style=\"text-align: right;\">\n",
              "      <th></th>\n",
              "      <th>contentId</th>\n",
              "      <th>title</th>\n",
              "      <th>text</th>\n",
              "    </tr>\n",
              "  </thead>\n",
              "  <tbody>\n",
              "    <tr>\n",
              "      <th>0</th>\n",
              "      <td>-6451309518266745024</td>\n",
              "      <td>Ethereum, a Virtual Currency, Enables Transact...</td>\n",
              "      <td>All of this work is still very early. The firs...</td>\n",
              "    </tr>\n",
              "    <tr>\n",
              "      <th>1</th>\n",
              "      <td>-4110354420726924665</td>\n",
              "      <td>Ethereum, a Virtual Currency, Enables Transact...</td>\n",
              "      <td>All of this work is still very early. The firs...</td>\n",
              "    </tr>\n",
              "  </tbody>\n",
              "</table>\n",
              "</div>"
            ],
            "text/plain": [
              "             contentId  ...                                               text\n",
              "0 -6451309518266745024  ...  All of this work is still very early. The firs...\n",
              "1 -4110354420726924665  ...  All of this work is still very early. The firs...\n",
              "\n",
              "[2 rows x 3 columns]"
            ]
          },
          "metadata": {
            "tags": []
          },
          "execution_count": 21
        }
      ]
    },
    {
      "cell_type": "code",
      "metadata": {
        "id": "rzLP-u5oMnD_",
        "colab": {
          "base_uri": "https://localhost:8080/"
        },
        "outputId": "71d323e1-933c-4a55-e6c7-39136374d353"
      },
      "source": [
        "# leave only unique contentIds\n",
        "articles_df = articles_df.drop_duplicates('contentId')\n",
        "articles_df.shape"
      ],
      "execution_count": null,
      "outputs": [
        {
          "output_type": "execute_result",
          "data": {
            "text/plain": [
              "(2218, 3)"
            ]
          },
          "metadata": {
            "tags": []
          },
          "execution_count": 22
        }
      ]
    },
    {
      "cell_type": "markdown",
      "metadata": {
        "id": "rny-koCEpbV5"
      },
      "source": [
        "###Final Cleaning\n"
      ]
    },
    {
      "cell_type": "code",
      "metadata": {
        "id": "-iCAs2bqpfBz",
        "colab": {
          "base_uri": "https://localhost:8080/"
        },
        "outputId": "6ca1b957-1680-4977-c228-0c66fb2da9b5"
      },
      "source": [
        "print(f'Interactions from selected users: {interactions_from_selected_users_df.shape}')\n",
        "final_interactions = interactions_from_selected_users_df.merge(\n",
        "    articles_df, \n",
        "    how='right',\n",
        "    left_on='contentId',\n",
        "    right_on='contentId'\n",
        ")\n",
        "print(f'Final interactions: {final_interactions.shape}')"
      ],
      "execution_count": null,
      "outputs": [
        {
          "output_type": "stream",
          "text": [
            "Interactions from selected users: (32538, 4)\n",
            "Final interactions: (21966, 6)\n"
          ],
          "name": "stdout"
        }
      ]
    },
    {
      "cell_type": "code",
      "metadata": {
        "id": "-IoN_RE0s-eW",
        "colab": {
          "base_uri": "https://localhost:8080/"
        },
        "outputId": "77db6e5f-4193-4c6f-cbb9-db0374333954"
      },
      "source": [
        "interactions_from_selected_users_df['personId'].value_counts()"
      ],
      "execution_count": null,
      "outputs": [
        {
          "output_type": "execute_result",
          "data": {
            "text/plain": [
              " 3609194402293569455    961\n",
              "-2626634673110551643    669\n",
              "-1032019229384696495    648\n",
              "-1443636648652872475    585\n",
              "-2979881261169775358    437\n",
              "                       ... \n",
              " 5404470824348262768     15\n",
              "-8532959362941292070     14\n",
              " 8437083040455072898     14\n",
              "-4293690759387208926     14\n",
              " 3007736603136734729     14\n",
              "Name: personId, Length: 473, dtype: int64"
            ]
          },
          "metadata": {
            "tags": []
          },
          "execution_count": 24
        }
      ]
    },
    {
      "cell_type": "code",
      "metadata": {
        "id": "UVRF3QZTql0A",
        "colab": {
          "base_uri": "https://localhost:8080/"
        },
        "outputId": "11b8ad7a-24e5-4097-d1e0-289a4ca37fe4"
      },
      "source": [
        "final_interactions_count_df = final_interactions.groupby('personId').sum().reset_index()[['personId', 'prefScore']]\n",
        "final_interactions_count_df = final_interactions_count_df[final_interactions_count_df['prefScore'] >= MIN_PREF_SCORE]\n",
        "final_users_with_enough_interactions_df = final_interactions_count_df[final_interactions_count_df['prefScore'] >= MIN_PREF_SCORE]\n",
        "\n",
        "print(f'Users after filtering: {final_users_with_enough_interactions_df.shape[0]}')\n",
        "print(f'Interactions after filtering: {final_interactions_count_df.shape[0]}')"
      ],
      "execution_count": null,
      "outputs": [
        {
          "output_type": "stream",
          "text": [
            "Users after filtering: 312\n",
            "Interactions after filtering: 312\n"
          ],
          "name": "stdout"
        }
      ]
    },
    {
      "cell_type": "code",
      "metadata": {
        "id": "j3G1DIxAwVyu",
        "colab": {
          "base_uri": "https://localhost:8080/"
        },
        "outputId": "3fa00907-4f2c-49f2-b627-bdcdb2e9aa19"
      },
      "source": [
        "final_interactions = final_interactions.merge(\n",
        "    final_users_with_enough_interactions_df[['personId']], \n",
        "    how='right',\n",
        "    left_on='personId',\n",
        "    right_on='personId'\n",
        ")\n",
        "print(f'Interactions after final filtering: {final_interactions.shape[0]}')"
      ],
      "execution_count": null,
      "outputs": [
        {
          "output_type": "stream",
          "text": [
            "Interactions after final filtering: 19832\n"
          ],
          "name": "stdout"
        }
      ]
    },
    {
      "cell_type": "code",
      "metadata": {
        "id": "XLBEyXtbxB1Q",
        "colab": {
          "base_uri": "https://localhost:8080/"
        },
        "outputId": "ca7172de-519a-4c43-8273-5cf67b691b1d"
      },
      "source": [
        "interactions_train_df, interactions_test_df = train_test_split(\n",
        "    final_interactions,\n",
        "    stratify=final_interactions['personId'], \n",
        "    test_size=0.30,\n",
        "    random_state=13\n",
        ")\n",
        "\n",
        "print(f'Interactions on Train set: {len(interactions_train_df)}')\n",
        "print(f'Interactions on Test set: {len(interactions_test_df)}')"
      ],
      "execution_count": null,
      "outputs": [
        {
          "output_type": "stream",
          "text": [
            "Interactions on Train set: 13882\n",
            "Interactions on Test set: 5950\n"
          ],
          "name": "stdout"
        }
      ]
    },
    {
      "cell_type": "markdown",
      "metadata": {
        "id": "42BMW4s2Hjen"
      },
      "source": [
        "#Content Based Recommender\n"
      ]
    },
    {
      "cell_type": "code",
      "metadata": {
        "id": "cG5qkV1iHtB-"
      },
      "source": [
        "# train set is at interactions_train_df \n",
        "# test set is at interactions_test_df"
      ],
      "execution_count": null,
      "outputs": []
    },
    {
      "cell_type": "code",
      "metadata": {
        "id": "POB1Huhjx0LZ",
        "colab": {
          "base_uri": "https://localhost:8080/"
        },
        "outputId": "41da644d-7480-43b2-8b18-120fd5259a24"
      },
      "source": [
        "nltk.download('stopwords')\n",
        "nltk.download('punkt')"
      ],
      "execution_count": null,
      "outputs": [
        {
          "output_type": "stream",
          "text": [
            "[nltk_data] Downloading package stopwords to /root/nltk_data...\n",
            "[nltk_data]   Package stopwords is already up-to-date!\n",
            "[nltk_data] Downloading package punkt to /root/nltk_data...\n",
            "[nltk_data]   Package punkt is already up-to-date!\n"
          ],
          "name": "stdout"
        },
        {
          "output_type": "execute_result",
          "data": {
            "text/plain": [
              "True"
            ]
          },
          "metadata": {
            "tags": []
          },
          "execution_count": 29
        }
      ]
    },
    {
      "cell_type": "code",
      "metadata": {
        "id": "1HcGBnuonN58"
      },
      "source": [
        "# some text preprocessing \n",
        "# lowercase and stem all of the words in order to reduce the number of unique tokens \n",
        "# this is important because the total size of the text is not big \n",
        "stemmer = nltk.stem.PorterStemmer()\n",
        "data = (articles_df['title'] + \" \" + articles_df['text']).str.lower().values \n",
        "tokenized = [nltk.tokenize.word_tokenize(text) for text in data]\n",
        "stemmed = [' '.join([stemmer.stem(word) for word in text]) for text in tokenized]"
      ],
      "execution_count": null,
      "outputs": []
    },
    {
      "cell_type": "code",
      "metadata": {
        "id": "SQQzO-rUx0QE"
      },
      "source": [
        "stopwords_list = stopwords.words('english')\n",
        "# make sure that the stemmed stop words are still ignored \n",
        "stopwords_list = stopwords_list + [stemmer.stem(word) for word in stopwords_list]\n",
        "\n",
        "# some changes in the TfidfVectorizer parameters \n",
        "# it seems like common words degrade performance \n",
        "vectorizer = TfidfVectorizer(\n",
        "    analyzer='word',\n",
        "    ngram_range=(1, 2),\n",
        "    min_df=0.005,\n",
        "    max_df=0.05,\n",
        "    max_features=1000,\n",
        "    stop_words=stopwords_list\n",
        ")\n",
        "\n",
        "item_ids = articles_df['contentId'].tolist()\n",
        "tfidf_matrix = vectorizer.fit_transform(stemmed)\n",
        "tfidf_feature_names = vectorizer.get_feature_names()"
      ],
      "execution_count": null,
      "outputs": []
    },
    {
      "cell_type": "code",
      "metadata": {
        "id": "Gb6uBnI7z2GW",
        "colab": {
          "base_uri": "https://localhost:8080/"
        },
        "outputId": "f47f078d-1322-4549-ad61-b437847b8fb7"
      },
      "source": [
        "print(tfidf_matrix.shape)\n",
        "print(tfidf_feature_names)"
      ],
      "execution_count": null,
      "outputs": [
        {
          "output_type": "stream",
          "text": [
            "(2218, 1000)\n",
            "['10 year', '17', '19', '2010', '2011', '2017', '21', '22', '32', '3d', '45', '70', 'abstract', 'accomplish', 'accuraci', 'acknowledg', 'acquia', 'admin', 'administr', 'adob', 'afford', 'agenc', 'agent', 'aggreg', 'agil', 'agil team', 'agreement', 'air', 'airbnb', 'al', 'alert', 'alexa', 'align', 'alloc', 'allow user', 'alphabet', 'alter', 'america', 'amp', 'analyst', 'android studio', 'angular', 'anim', 'annot', 'anonym', 'answer question', 'anticip', 'anymor', 'anyway', 'apach', 'apart', 'app engin', 'app store', 'app use', 'appar', 'appeal', 'appreci', 'approv', 'approxim', 'april', 'architect', 'archiv', 'argument', 'arm', 'artifact', 'artist', 'asid', 'assembl', 'assert', 'assess', 'assumpt', 'async', 'asynchron', 'atom', 'attach', 'attack', 'attend', 'audio', 'audit', 'augment', 'authent', 'autonom', 'aw', 'award', 'awesom', 'azur', 'back end', 'backend', 'backup', 'bar', 'barrier', 'bash', 'batch', 'batteri', 'beat', 'beauti', 'behav', 'benchmark', 'best practic', 'best way', 'bet', 'better understand', 'big data', 'bigqueri', 'binari', 'bind', 'biolog', 'bitcoin', 'black', 'blockchain', 'blockchain technolog', 'blue', 'boost', 'boot', 'bought', 'bound', 'boundari', 'branch', 'brazil', 'bridg', 'brief', 'broad', 'broader', 'broken', 'brows', 'bubbl', 'bucket', 'builder', 'bunch', 'bundl', 'busi model', 'buyer', 'byte', 'cach', 'calendar', 'california', 'callback', 'camera', 'candid', 'capac', 'career', 'cash', 'cat', 'cd', 'cdn', 'celebr', 'cell', 'cent', 'centr', 'centuri', 'certif', 'chapter', 'charact', 'characterist', 'chart', 'chatbot', 'cheap', 'cheaper', 'child', 'children', 'china', 'chines', 'chip', 'chrome', 'churn', 'ci', 'circl', 'circuit', 'classic', 'classif', 'classifi', 'cloud storag', 'club', 'coach', 'code review', 'coffe', 'cognit', 'colleagu', 'colleg', 'column', 'comfort', 'command line', 'commonli', 'comparison', 'compat', 'compel', 'compos', 'comprehens', 'compress', 'comput engin', 'comput scienc', 'comput vision', 'concret', 'config', 'conflict', 'consequ', 'consider', 'consol', 'constant', 'constraint', 'constructor', 'consumpt', 'continu deliveri', 'contract', 'contrast', 'contributor', 'convent', 'convinc', 'cook', 'coordin', 'correctli', 'correl', 'correspond', 'cortana', 'coverag', 'cpu', 'crack', 'crash', 'crazi', 'creator', 'credenti', 'credit card', 'crucial', 'cryptocurr', 'css', 'currenc', 'curv', 'custom experi', 'custom servic', 'customer', 'danger', 'dark', 'dashboard', 'data analyt', 'data center', 'data scienc', 'data scientist', 'data set', 'dataset', 'datastor', 'david', 'de', 'dead', 'death', 'debat', 'debug', 'decentr', 'declar', 'declin', 'decoupl', 'decreas', 'deeper', 'deepmind', 'delay', 'delet', 'demo', 'depth', 'deriv', 'destin', 'dev', 'develop team', 'devop', 'diagram', 'die', 'differ way', 'differenti', 'difficulti', 'digit currenc', 'digit product', 'digit transform', 'dimens', 'directori', 'disabl', 'disciplin', 'discoveri', 'disk', 'distanc', 'dive', 'divers', 'divid', 'dna', 'doc', 'docker', 'doctor', 'dom', 'domin', 'door', 'doubt', 'dozen', 'dream', 'drink', 'driv', 'drupal', 'duplic', 'earn', 'earth', 'eas', 'eat', 'ec2', 'echo', 'ecommerc', 'econom', 'economi', 'eight', 'elast', 'electr', 'electron', 'elsewher', 'embed', 'emot', 'empow', 'empti', 'en', 'encod', 'encount', 'encrypt', 'end end', 'endpoint', 'enforc', 'english', 'enorm', 'entertain', 'entiti', 'entrepreneur', 'equat', 'equip', 'equival', 'era', 'ethereum', 'europ', 'european', 'everi day', 'everi time', 'everyday', 'everywher', 'evid', 'evolut', 'exact', 'exam', 'examin', 'exclus', 'exercis', 'exhibit', 'experiment', 'expertis', 'explan', 'explicitli', 'exponenti', 'export', 'extract', 'fac', 'facebook messeng', 'facilit', 'fair', 'fals', 'fan', 'farm', 'farmer', 'fashion', 'favor', 'fear', 'fee', 'felt', 'fetch', 'fight', 'film', 'financi institut', 'financi servic', 'fintech', 'fire', 'firebas', 'five year', 'flag', 'flight', 'folder', 'folk', 'font', 'food', 'forecast', 'formal', 'fragment', 'frame', 'fresh', 'friendli', 'front end', 'frustrat', 'fulfil', 'ga', 'gate', 'gateway', 'gcp', 'ge', 'gear', 'gender', 'get better', 'git', 'give us', 'gmail', 'go back', 'gold', 'googl analyt', 'googl app', 'googl comput', 'googl drive', 'googl play', 'google', 'gpu', 'grant', 'graph', 'green', 'grid', 'gross', 'grown', 'guarante', 'guidelin', 'guy', 'habit', 'hack', 'hash', 'hat', 'header', 'headphon', 'healthcar', 'healthi', 'heavi', 'heavili', 'held', 'hero', 'hidden', 'hide', 'hierarchi', 'high level', 'highest', 'hint', 'histor', 'hook', 'horizont', 'hospit', 'hot', 'hotel', 'html', 'html5', 'http', 'hub', 'hunt', 'hybrid', 'hype', 'icon', 'ide', 'implic', 'importantli', 'inbox', 'inc', 'incom', 'increment', 'incumb', 'index', 'india', 'influenc', 'info', 'inject', 'insert', 'inspect', 'instant', 'instantli', 'instruct', 'insur', 'intel', 'intens', 'internet thing', 'interpret', 'invent', 'inventori', 'investig', 'invit', 'invok', 'iot', 'ip', 'ip address', 'ipad', 'isol', 'jack', 'januari', 'japanes', 'jenkin', 'jira', 'john', 'journal', 'js', 'json', 'juli', 'june', 'kept', 'kernel', 'keyboard', 'keynot', 'keyword', 'kid', 'kill', 'kit', 'knew', 'kubernet', 'lambda', 'landscap', 'laptop', 'latenc', 'law', 'layout', 'lazi', 'leadership', 'leak', 'lean', 'learn algorithm', 'learn model', 'learn system', 'ledger', 'legaci', 'legal', 'length', 'lesson', 'let look', 'let say', 'let take', 'let us', 'letter', 'lie', 'like googl', 'lin', 'linear', 'linkedin', 'liter', 'littl bit', 'load balanc', 'lock', 'london', 'long time', 'loss', 'mac', 'machin intellig', 'machine', 'mail', 'mainten', 'mak', 'make decis', 'make easi', 'maker', 'mani compani', 'mani differ', 'mani peopl', 'manipul', 'manner', 'manufactur', 'margin', 'marketplac', 'mass', 'mathemat', 'matur', 'mckinsey', 'meaning', 'meanwhil', 'medic', 'medium', 'men', 'menu', 'merchant', 'mere', 'merg', 'messag app', 'messeng', 'met', 'metadata', 'methodolog', 'michael', 'micro', 'microservic', 'mid', 'middl', 'millenni', 'mindset', 'mine', 'minimum', 'minor', 'mit', 'ml', 'mobil app', 'mobil devic', 'monolith', 'monthli', 'morn', 'movement', 'mr', 'natur languag', 'need know', 'need make', 'neg', 'nest', 'netflix', 'neural net', 'neuron', 'new product', 'new technolog', 'next step', 'next year', 'night', 'nobodi', 'nois', 'north', 'notabl', 'notif', 'npm', 'null', 'numer', 'octob', 'offlin', 'oh', 'ok', 'older', 'onboard', 'one way', 'ongo', 'onto', 'oper system', 'opt', 'oracl', 'orchestr', 'org', 'organis', 'organiz', 'ori', 'os', 'outlin', 'overhead', 'overrid', 'overview', 'ownership', 'pace', 'pack', 'packet', 'paint', 'pair', 'panel', 'paradigm', 'parallel', 'parent', 'park', 'pars', 'passion', 'password', 'patch', 'patient', 'pc', 'peopl use', 'per second', 'perceiv', 'percentag', 'percept', 'permiss', 'persist', 'phase', 'php', 'phrase', 'pi', 'pin', 'pinterest', 'pipelin', 'pitch', 'pivot', 'pixel', 'planet', 'plant', 'plug', 'plugin', 'pod', 'pokémon', 'polit', 'pool', 'poor', 'pop', 'popul', 'port', 'portfolio', 'portion', 'pow', 'precis', 'premis', 'premium', 'presenc', 'presid', 'pressur', 'pretti much', 'preview', 'primarili', 'print', 'prior', 'priorit', 'privaci', 'pro', 'processor', 'product manag', 'product owner', 'product servic', 'professor', 'program languag', 'prompt', 'proof', 'proper', 'propos', 'proprietari', 'prospect', 'protocol', 'prototyp', 'provis', 'proxi', 'psycholog', 'pure', 'pursu', 'python', 'quarter', 'queue', 'quot', 'race', 'rail', 'ram', 'ran', 'random', 'rapid', 'raw', 'reactiv', 'readabl', 'reader', 'real time', 'recal', 'recruit', 'red hat', 'refactor', 'refin', 'regard', 'regardless', 'regist', 'regress', 'regul', 'remark', 'remind', 'remot', 'render', 'repli', 'replic', 'represent', 'reserv', 'resolv', 'restaur', 'restrict', 'retain', 'retent', 'retriev', 'reus', 'revolut', 'reward', 'ride', 'robust', 'rock', 'roughli', 'row', 'rubi', 'runtim', 's3', 'saa', 'salesforc', 'samsung', 'satisfact', 'satisfi', 'scal', 'scan', 'scene', 'schema', 'scikit', 'scope', 'scratch', 'scroll', 'scrum', 'sdk', 'search engin', 'search result', 'secret', 'seed', 'seem like', 'segment', 'selector', 'self driv', 'semant', 'sensit', 'sensor', 'sentenc', 'seo', 'septemb', 'sequenc', 'seriou', 'setup', 'seven', 'shard', 'sheet', 'shell', 'shot', 'sid', 'silicon', 'silicon valley', 'simpler', 'simul', 'simultan', 'siri', 'skip', 'slack', 'sleep', 'slide', 'slightli', 'slower', 'smart contract', 'smarter', 'snapshot', 'snippet', 'social media', 'societi', 'softwar engin', 'sold', 'solid', 'somewhat', 'somewher', 'sourc code', 'sourc project', 'span', 'spark', 'speaker', 'spec', 'speech', 'spend time', 'split', 'sport', 'spotifi', 'spread', 'spring', 'spring boot', 'sprint', 'sql', 'squar', 'ssl', 'stabl', 'staff', 'stakehold', 'star', 'static', 'statist', 'steve', 'stick', 'stock', 'straight', 'straightforward', 'street', 'strength', 'string', 'studio', 'sub', 'submit', 'subscript', 'substanti', 'succeed', 'suffer', 'suffici', 'sum', 'summari', 'suppli', 'suppos', 'sustain', 'swarm', 'swift', 'sync', 'synchron', 'syntax', 'tab', 'tablet', 'tackl', 'tailor', 'take look', 'take time', 'tax', 'teacher', 'team member', 'team work', 'tech compani', 'technic spec', 'templat', 'tensorflow', 'termin', 'th', 'theme', 'theori', 'thread', 'threat', 'throw', 'ticket', 'tie', 'tier', 'tini', 'tl', 'token', 'toler', 'ton', 'trace', 'transport', 'tree', 'trello', 'trial', 'trick', 'trip', 'troubl', 'trump', 'truth', 'tutori', 'tweak', 'tweet', 'twice', 'two year', 'typescript', 'uber', 'ubuntu', 'uk', 'unit state', 'unknown', 'unlock', 'upcom', 'upload', 'url', 'usa', 'usabl', 'use data', 'use googl', 'use machin', 'use one', 'user interfac', 'ux', 'valley', 'var', 'vector', 'vehicl', 'vendor', 'verb', 'verifi', 'versu', 'vertic', 'vice', 'virtual realiti', 'visitor', 'visual studio', 'vm', 'vote', 'vr', 'wallet', 'want get', 'want make', 'want use', 'war', 'warn', 'water', 'watson', 'wave', 'weak', 'wear', 'wearabl', 'weather', 'web app', 'web server', 'web servic', 'wechat', 'weekend', 'weight', 'west', 'whatsapp', 'whenev', 'wherea', 'window 10', 'wireless', 'wish', 'wit', 'women', 'work togeth', 'work well', 'worker', 'workload', 'workplac', 'worldwid', 'wors', 'wrap', 'write code', 'xml', 'year old', 'yield', 'young', 'youtub', 'zero', 'zone', 'zoom']\n"
          ],
          "name": "stdout"
        }
      ]
    },
    {
      "cell_type": "markdown",
      "metadata": {
        "id": "_ex0iROw55Nn"
      },
      "source": [
        "## Build User Profiles\n",
        "The profiles are build from all the content which the user engaded with with taken the scores in consideration"
      ]
    },
    {
      "cell_type": "code",
      "metadata": {
        "id": "lxUpjG7C6J5V"
      },
      "source": [
        "# calculate user profiles from train dataset\n",
        "user_profiles = {}\n",
        "for person_id in interactions_train_df['personId'].unique():\n",
        "  user_profile = None\n",
        "  interactions_person_df = interactions_train_df[interactions_train_df['personId'] == person_id]\n",
        "  all_scores = interactions_person_df['prefScore'].sum()\n",
        "  for index, row in interactions_person_df.iterrows():\n",
        "    content_id = row['contentId']\n",
        "    score = row['prefScore']\n",
        "    if(user_profile==None):\n",
        "      user_profile = tfidf_matrix[item_ids.index(content_id)] * score / all_scores\n",
        "    else:\n",
        "      user_profile = scipy.sparse.vstack((user_profile, tfidf_matrix[item_ids.index(content_id)] * score / all_scores))\n",
        "  user_profiles[person_id] = user_profile"
      ],
      "execution_count": null,
      "outputs": []
    },
    {
      "cell_type": "markdown",
      "metadata": {
        "id": "9B4Lj0VSF83I"
      },
      "source": [
        "### Evaluate"
      ]
    },
    {
      "cell_type": "code",
      "metadata": {
        "id": "PtWSaCK3F8H-"
      },
      "source": [
        "#recommend items to the users from the test dataset \n",
        "#Evaluation is with MRR (https://en.wikipedia.org/wiki/Mean_reciprocal_rank)"
      ],
      "execution_count": null,
      "outputs": []
    },
    {
      "cell_type": "code",
      "metadata": {
        "id": "t8AA5xAFKF9Q"
      },
      "source": [
        "mrr = 0\n",
        "for person_id in interactions_train_df['personId'].unique():\n",
        "  cosine_similarities = cosine_similarity(user_profiles[person_id], tfidf_matrix)\n",
        "  # summing columnwise \n",
        "  # this way we get for each content how close it is to all of the contents that are interesting for a specific person \n",
        "  similar_indices = cosine_similarities.sum(axis=0).argsort()[::-1]\n",
        "  items_to_ignore = interactions_train_df[interactions_train_df['personId'] == person_id]['contentId'].values\n",
        "  items_to_evaluate = interactions_test_df[interactions_test_df['personId'] == person_id]['contentId'].values\n",
        "  similar_indices_filtered = list(filter(lambda x: item_ids[x] not in items_to_ignore, similar_indices))\n",
        "  # print('After filtering train set items for person ', person_id, ' = ',len(similar_indices_filtered))\n",
        "  \n",
        "  first_rank = len(similar_indices_filtered);\n",
        "  l = len(similar_indices_filtered);\n",
        "  for i in range(l):\n",
        "    if(item_ids[similar_indices_filtered[i]] in items_to_evaluate):\n",
        "      first_rank = i+1;\n",
        "      break;\n",
        "  mrr += 1 / first_rank\n",
        "  # print('first rank = ', first_rank);\n",
        "  # print('number of train items = ', len(items_to_ignore))\n",
        "mrr /= interactions_train_df.personId.nunique()"
      ],
      "execution_count": null,
      "outputs": []
    },
    {
      "cell_type": "code",
      "metadata": {
        "colab": {
          "base_uri": "https://localhost:8080/"
        },
        "id": "GyqCy_bPqEvd",
        "outputId": "f7cf8358-8ad7-4252-9cf2-1b6ca63aa1bb"
      },
      "source": [
        "print('mrr = ', mrr)"
      ],
      "execution_count": null,
      "outputs": [
        {
          "output_type": "stream",
          "text": [
            "mrr =  0.2078989317676395\n"
          ],
          "name": "stdout"
        }
      ]
    }
  ]
}