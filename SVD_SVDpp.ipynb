{
  "nbformat": 4,
  "nbformat_minor": 0,
  "metadata": {
    "colab": {
      "name": "hw3.ipynb",
      "provenance": [],
      "authorship_tag": "ABX9TyP9c0DCyCxBLeocih8XKgjs",
      "include_colab_link": true
    },
    "kernelspec": {
      "name": "python3",
      "display_name": "Python 3"
    },
    "language_info": {
      "name": "python"
    }
  },
  "cells": [
    {
      "cell_type": "markdown",
      "metadata": {
        "id": "view-in-github",
        "colab_type": "text"
      },
      "source": [
        "<a href=\"https://colab.research.google.com/github/JoeJoe1313/Recommender-Systems/blob/master/SVD_SVDpp.ipynb\" target=\"_parent\"><img src=\"https://colab.research.google.com/assets/colab-badge.svg\" alt=\"Open In Colab\"/></a>"
      ]
    },
    {
      "cell_type": "markdown",
      "metadata": {
        "id": "Fg2KyuPYyQse"
      },
      "source": [
        "### Install package, load data"
      ]
    },
    {
      "cell_type": "code",
      "metadata": {
        "id": "r32C4W3uoFSk",
        "colab": {
          "base_uri": "https://localhost:8080/"
        },
        "outputId": "5df9b527-306d-4327-eaf1-6b0e504ccd37"
      },
      "source": [
        "!pip install surprise"
      ],
      "execution_count": 1,
      "outputs": [
        {
          "output_type": "stream",
          "text": [
            "Collecting surprise\n",
            "  Downloading https://files.pythonhosted.org/packages/61/de/e5cba8682201fcf9c3719a6fdda95693468ed061945493dea2dd37c5618b/surprise-0.1-py2.py3-none-any.whl\n",
            "Collecting scikit-surprise\n",
            "\u001b[?25l  Downloading https://files.pythonhosted.org/packages/97/37/5d334adaf5ddd65da99fc65f6507e0e4599d092ba048f4302fe8775619e8/scikit-surprise-1.1.1.tar.gz (11.8MB)\n",
            "\u001b[K     |████████████████████████████████| 11.8MB 23.1MB/s \n",
            "\u001b[?25hRequirement already satisfied: joblib>=0.11 in /usr/local/lib/python3.7/dist-packages (from scikit-surprise->surprise) (1.0.1)\n",
            "Requirement already satisfied: numpy>=1.11.2 in /usr/local/lib/python3.7/dist-packages (from scikit-surprise->surprise) (1.19.5)\n",
            "Requirement already satisfied: scipy>=1.0.0 in /usr/local/lib/python3.7/dist-packages (from scikit-surprise->surprise) (1.4.1)\n",
            "Requirement already satisfied: six>=1.10.0 in /usr/local/lib/python3.7/dist-packages (from scikit-surprise->surprise) (1.15.0)\n",
            "Building wheels for collected packages: scikit-surprise\n",
            "  Building wheel for scikit-surprise (setup.py) ... \u001b[?25l\u001b[?25hdone\n",
            "  Created wheel for scikit-surprise: filename=scikit_surprise-1.1.1-cp37-cp37m-linux_x86_64.whl size=1617516 sha256=36eacc960322d6c5ec8d1f4ca5d9127c0c5f7025fa6b053b52bd805efe6d6806\n",
            "  Stored in directory: /root/.cache/pip/wheels/78/9c/3d/41b419c9d2aff5b6e2b4c0fc8d25c538202834058f9ed110d0\n",
            "Successfully built scikit-surprise\n",
            "Installing collected packages: scikit-surprise, surprise\n",
            "Successfully installed scikit-surprise-1.1.1 surprise-0.1\n"
          ],
          "name": "stdout"
        }
      ]
    },
    {
      "cell_type": "code",
      "metadata": {
        "id": "Dx4Ep51Fh6EG"
      },
      "source": [
        "import pandas as pd \n",
        "from surprise import accuracy, Dataset, KNNBasic, SVD, SVDpp\n",
        "from surprise.model_selection import cross_validate, train_test_split\n",
        "from surprise.prediction_algorithms.co_clustering import CoClustering\n",
        "from surprise.prediction_algorithms.slope_one import SlopeOne"
      ],
      "execution_count": 2,
      "outputs": []
    },
    {
      "cell_type": "code",
      "metadata": {
        "colab": {
          "base_uri": "https://localhost:8080/"
        },
        "id": "SS5VobQNiKA_",
        "outputId": "78bdd2e5-1911-4e07-8479-a7cf7275cac9"
      },
      "source": [
        "# Load the movielens-100k\n",
        "data = Dataset.load_builtin('ml-1m')"
      ],
      "execution_count": 3,
      "outputs": [
        {
          "output_type": "stream",
          "text": [
            "Dataset ml-1m could not be found. Do you want to download it? [Y/n] y\n",
            "Trying to download dataset from http://files.grouplens.org/datasets/movielens/ml-1m.zip...\n",
            "Done! Dataset ml-1m has been saved to /root/.surprise_data/ml-1m\n"
          ],
          "name": "stdout"
        }
      ]
    },
    {
      "cell_type": "code",
      "metadata": {
        "id": "aGZTSQtQi4Ar",
        "colab": {
          "base_uri": "https://localhost:8080/"
        },
        "outputId": "ea2929b5-1116-4417-e1ee-d1ea8c1e8f37"
      },
      "source": [
        "df = pd.DataFrame(data.raw_ratings)\n",
        "\n",
        "print('users = ', len(df[0].unique()))\n",
        "print('items = ', len(df[1].unique()))\n",
        "print('ratings = ', len(df))"
      ],
      "execution_count": 4,
      "outputs": [
        {
          "output_type": "stream",
          "text": [
            "users =  6040\n",
            "items =  3706\n",
            "ratings =  1000209\n"
          ],
          "name": "stdout"
        }
      ]
    },
    {
      "cell_type": "code",
      "metadata": {
        "colab": {
          "base_uri": "https://localhost:8080/",
          "height": 359
        },
        "id": "CXlXHjPivTGp",
        "outputId": "e94962c9-0b1f-438a-fb41-46b9243d92b8"
      },
      "source": [
        "df[:10]"
      ],
      "execution_count": 5,
      "outputs": [
        {
          "output_type": "execute_result",
          "data": {
            "text/html": [
              "<div>\n",
              "<style scoped>\n",
              "    .dataframe tbody tr th:only-of-type {\n",
              "        vertical-align: middle;\n",
              "    }\n",
              "\n",
              "    .dataframe tbody tr th {\n",
              "        vertical-align: top;\n",
              "    }\n",
              "\n",
              "    .dataframe thead th {\n",
              "        text-align: right;\n",
              "    }\n",
              "</style>\n",
              "<table border=\"1\" class=\"dataframe\">\n",
              "  <thead>\n",
              "    <tr style=\"text-align: right;\">\n",
              "      <th></th>\n",
              "      <th>0</th>\n",
              "      <th>1</th>\n",
              "      <th>2</th>\n",
              "      <th>3</th>\n",
              "    </tr>\n",
              "  </thead>\n",
              "  <tbody>\n",
              "    <tr>\n",
              "      <th>0</th>\n",
              "      <td>1</td>\n",
              "      <td>1193</td>\n",
              "      <td>5.0</td>\n",
              "      <td>978300760</td>\n",
              "    </tr>\n",
              "    <tr>\n",
              "      <th>1</th>\n",
              "      <td>1</td>\n",
              "      <td>661</td>\n",
              "      <td>3.0</td>\n",
              "      <td>978302109</td>\n",
              "    </tr>\n",
              "    <tr>\n",
              "      <th>2</th>\n",
              "      <td>1</td>\n",
              "      <td>914</td>\n",
              "      <td>3.0</td>\n",
              "      <td>978301968</td>\n",
              "    </tr>\n",
              "    <tr>\n",
              "      <th>3</th>\n",
              "      <td>1</td>\n",
              "      <td>3408</td>\n",
              "      <td>4.0</td>\n",
              "      <td>978300275</td>\n",
              "    </tr>\n",
              "    <tr>\n",
              "      <th>4</th>\n",
              "      <td>1</td>\n",
              "      <td>2355</td>\n",
              "      <td>5.0</td>\n",
              "      <td>978824291</td>\n",
              "    </tr>\n",
              "    <tr>\n",
              "      <th>5</th>\n",
              "      <td>1</td>\n",
              "      <td>1197</td>\n",
              "      <td>3.0</td>\n",
              "      <td>978302268</td>\n",
              "    </tr>\n",
              "    <tr>\n",
              "      <th>6</th>\n",
              "      <td>1</td>\n",
              "      <td>1287</td>\n",
              "      <td>5.0</td>\n",
              "      <td>978302039</td>\n",
              "    </tr>\n",
              "    <tr>\n",
              "      <th>7</th>\n",
              "      <td>1</td>\n",
              "      <td>2804</td>\n",
              "      <td>5.0</td>\n",
              "      <td>978300719</td>\n",
              "    </tr>\n",
              "    <tr>\n",
              "      <th>8</th>\n",
              "      <td>1</td>\n",
              "      <td>594</td>\n",
              "      <td>4.0</td>\n",
              "      <td>978302268</td>\n",
              "    </tr>\n",
              "    <tr>\n",
              "      <th>9</th>\n",
              "      <td>1</td>\n",
              "      <td>919</td>\n",
              "      <td>4.0</td>\n",
              "      <td>978301368</td>\n",
              "    </tr>\n",
              "  </tbody>\n",
              "</table>\n",
              "</div>"
            ],
            "text/plain": [
              "   0     1    2          3\n",
              "0  1  1193  5.0  978300760\n",
              "1  1   661  3.0  978302109\n",
              "2  1   914  3.0  978301968\n",
              "3  1  3408  4.0  978300275\n",
              "4  1  2355  5.0  978824291\n",
              "5  1  1197  3.0  978302268\n",
              "6  1  1287  5.0  978302039\n",
              "7  1  2804  5.0  978300719\n",
              "8  1   594  4.0  978302268\n",
              "9  1   919  4.0  978301368"
            ]
          },
          "metadata": {
            "tags": []
          },
          "execution_count": 5
        }
      ]
    },
    {
      "cell_type": "markdown",
      "metadata": {
        "id": "jvDuWzWnyW-8"
      },
      "source": [
        "### Crossvalidation, split to train & test"
      ]
    },
    {
      "cell_type": "code",
      "metadata": {
        "colab": {
          "base_uri": "https://localhost:8080/"
        },
        "id": "9oYH4gLSydsY",
        "outputId": "bd67ccdf-1d58-461d-cb3d-b2f88ae16c59"
      },
      "source": [
        "# SVD algorithm\n",
        "alg = SVD(reg_all=0.2)\n",
        "cross_validate(alg, data, measures=['RMSE', 'MAE'], cv=3, verbose=True)"
      ],
      "execution_count": 6,
      "outputs": [
        {
          "output_type": "stream",
          "text": [
            "Evaluating RMSE, MAE of algorithm SVD on 3 split(s).\n",
            "\n",
            "                  Fold 1  Fold 2  Fold 3  Mean    Std     \n",
            "RMSE (testset)    0.9158  0.9158  0.9174  0.9163  0.0008  \n",
            "MAE (testset)     0.7299  0.7297  0.7307  0.7301  0.0004  \n",
            "Fit time          41.72   42.01   42.11   41.94   0.17    \n",
            "Test time         5.25    5.64    4.64    5.18    0.41    \n"
          ],
          "name": "stdout"
        },
        {
          "output_type": "execute_result",
          "data": {
            "text/plain": [
              "{'fit_time': (41.716352224349976, 42.00555467605591, 42.10626769065857),\n",
              " 'test_mae': array([0.72986981, 0.72969199, 0.73071943]),\n",
              " 'test_rmse': array([0.91581899, 0.91579514, 0.91743003]),\n",
              " 'test_time': (5.254430055618286, 5.642485857009888, 4.638407945632935)}"
            ]
          },
          "metadata": {
            "tags": []
          },
          "execution_count": 6
        }
      ]
    },
    {
      "cell_type": "code",
      "metadata": {
        "colab": {
          "base_uri": "https://localhost:8080/"
        },
        "id": "pGulCKMY0p-_",
        "outputId": "4c1e5677-386b-44c9-8535-c472a0cc6032"
      },
      "source": [
        "# SVD algorithm\n",
        "alg = SVD(reg_all=0.02)\n",
        "cross_validate(alg, data, measures=['RMSE', 'MAE'], cv=3, verbose=True)"
      ],
      "execution_count": 7,
      "outputs": [
        {
          "output_type": "stream",
          "text": [
            "Evaluating RMSE, MAE of algorithm SVD on 3 split(s).\n",
            "\n",
            "                  Fold 1  Fold 2  Fold 3  Mean    Std     \n",
            "RMSE (testset)    0.8851  0.8870  0.8851  0.8857  0.0009  \n",
            "MAE (testset)     0.6957  0.6970  0.6957  0.6961  0.0006  \n",
            "Fit time          41.58   41.62   42.40   41.86   0.38    \n",
            "Test time         5.25    5.21    5.20    5.22    0.02    \n"
          ],
          "name": "stdout"
        },
        {
          "output_type": "execute_result",
          "data": {
            "text/plain": [
              "{'fit_time': (41.5815954208374, 41.615787744522095, 42.396801710128784),\n",
              " 'test_mae': array([0.69568622, 0.69699393, 0.69567048]),\n",
              " 'test_rmse': array([0.88508617, 0.88696865, 0.88510891]),\n",
              " 'test_time': (5.254023790359497, 5.211381673812866, 5.197172164916992)}"
            ]
          },
          "metadata": {
            "tags": []
          },
          "execution_count": 7
        }
      ]
    },
    {
      "cell_type": "code",
      "metadata": {
        "colab": {
          "base_uri": "https://localhost:8080/"
        },
        "id": "ZIEamCNY06UY",
        "outputId": "e7a81093-1c00-47ae-8d39-76a0306dae79"
      },
      "source": [
        "# SVD algorithm\n",
        "alg = SVD(n_factors=50, reg_all=0.1) \n",
        "cross_validate(alg, data, measures=['RMSE', 'MAE'], cv=3, verbose=True)"
      ],
      "execution_count": 8,
      "outputs": [
        {
          "output_type": "stream",
          "text": [
            "Evaluating RMSE, MAE of algorithm SVD on 3 split(s).\n",
            "\n",
            "                  Fold 1  Fold 2  Fold 3  Mean    Std     \n",
            "RMSE (testset)    0.9038  0.9026  0.9010  0.9025  0.0012  \n",
            "MAE (testset)     0.7175  0.7163  0.7156  0.7165  0.0008  \n",
            "Fit time          27.56   27.89   27.95   27.80   0.17    \n",
            "Test time         5.16    5.14    5.20    5.17    0.03    \n"
          ],
          "name": "stdout"
        },
        {
          "output_type": "execute_result",
          "data": {
            "text/plain": [
              "{'fit_time': (27.557502269744873, 27.888716459274292, 27.950860500335693),\n",
              " 'test_mae': array([0.7174719 , 0.71630727, 0.71561786]),\n",
              " 'test_rmse': array([0.90382258, 0.90256461, 0.90100631]),\n",
              " 'test_time': (5.1619226932525635, 5.136772632598877, 5.204985618591309)}"
            ]
          },
          "metadata": {
            "tags": []
          },
          "execution_count": 8
        }
      ]
    },
    {
      "cell_type": "code",
      "metadata": {
        "colab": {
          "base_uri": "https://localhost:8080/"
        },
        "id": "Jv5IKH-q1ARz",
        "outputId": "d82da31e-ad43-4251-b073-d23c4516ad21"
      },
      "source": [
        "# SVD algorithm\n",
        "alg = SVD(n_factors=200, reg_all=0.1)\n",
        "cross_validate(alg, data, measures=['RMSE', 'MAE'], cv=3, verbose=True)"
      ],
      "execution_count": 9,
      "outputs": [
        {
          "output_type": "stream",
          "text": [
            "Evaluating RMSE, MAE of algorithm SVD on 3 split(s).\n",
            "\n",
            "                  Fold 1  Fold 2  Fold 3  Mean    Std     \n",
            "RMSE (testset)    0.8971  0.8980  0.8953  0.8968  0.0011  \n",
            "MAE (testset)     0.7117  0.7131  0.7103  0.7117  0.0011  \n",
            "Fit time          69.48   69.80   69.88   69.72   0.17    \n",
            "Test time         5.28    5.23    5.67    5.39    0.20    \n"
          ],
          "name": "stdout"
        },
        {
          "output_type": "execute_result",
          "data": {
            "text/plain": [
              "{'fit_time': (69.47996282577515, 69.797616481781, 69.87830376625061),\n",
              " 'test_mae': array([0.71167733, 0.71308628, 0.71033786]),\n",
              " 'test_rmse': array([0.89708921, 0.89802781, 0.89527221]),\n",
              " 'test_time': (5.2813169956207275, 5.231257915496826, 5.6691601276397705)}"
            ]
          },
          "metadata": {
            "tags": []
          },
          "execution_count": 9
        }
      ]
    },
    {
      "cell_type": "code",
      "metadata": {
        "colab": {
          "base_uri": "https://localhost:8080/"
        },
        "id": "XO7AFqVw1O_j",
        "outputId": "5bf00b5f-9642-4ea5-e61b-2483c8c26a29"
      },
      "source": [
        "# SVDpp algorithm\n",
        "alg = SVDpp()\n",
        "cross_validate(alg, data, measures=['RMSE', 'MAE'], cv=3, verbose=True)"
      ],
      "execution_count": 10,
      "outputs": [
        {
          "output_type": "stream",
          "text": [
            "Evaluating RMSE, MAE of algorithm SVDpp on 3 split(s).\n",
            "\n",
            "                  Fold 1  Fold 2  Fold 3  Mean    Std     \n",
            "RMSE (testset)    0.8720  0.8716  0.8702  0.8713  0.0008  \n",
            "MAE (testset)     0.6808  0.6821  0.6794  0.6808  0.0011  \n",
            "Fit time          2424.95 2421.96 2381.22 2409.38 19.95   \n",
            "Test time         154.64  154.22  153.45  154.10  0.50    \n"
          ],
          "name": "stdout"
        },
        {
          "output_type": "execute_result",
          "data": {
            "text/plain": [
              "{'fit_time': (2424.9453966617584, 2421.9590423107147, 2381.2209362983704),\n",
              " 'test_mae': array([0.68083616, 0.68206656, 0.67935311]),\n",
              " 'test_rmse': array([0.8720092 , 0.87164176, 0.87017313]),\n",
              " 'test_time': (154.64379572868347, 154.21653175354004, 153.4463152885437)}"
            ]
          },
          "metadata": {
            "tags": []
          },
          "execution_count": 10
        }
      ]
    },
    {
      "cell_type": "code",
      "metadata": {
        "colab": {
          "base_uri": "https://localhost:8080/"
        },
        "id": "DkN6n23TYL5W",
        "outputId": "2d908e12-9b93-4c07-f015-c9691a6437b7"
      },
      "source": [
        "# SVDpp algorithm\n",
        "alg = SVDpp(reg_all=0.2)\n",
        "cross_validate(alg, data, measures=['RMSE', 'MAE'], cv=3, verbose=True)"
      ],
      "execution_count": 4,
      "outputs": [
        {
          "output_type": "stream",
          "text": [
            "Evaluating RMSE, MAE of algorithm SVDpp on 3 split(s).\n",
            "\n",
            "                  Fold 1  Fold 2  Fold 3  Mean    Std     \n",
            "RMSE (testset)    0.9174  0.9159  0.9159  0.9164  0.0007  \n",
            "MAE (testset)     0.7307  0.7303  0.7300  0.7303  0.0003  \n",
            "Fit time          2224.22 2203.03 2239.30 2222.18 14.87   \n",
            "Test time         114.13  113.84  119.40  115.79  2.55    \n"
          ],
          "name": "stdout"
        },
        {
          "output_type": "execute_result",
          "data": {
            "text/plain": [
              "{'fit_time': (2224.2181963920593, 2203.034508228302, 2239.2991054058075),\n",
              " 'test_mae': array([0.73072194, 0.73028405, 0.72995373]),\n",
              " 'test_rmse': array([0.91737306, 0.91591075, 0.91590198]),\n",
              " 'test_time': (114.13300633430481, 113.83601689338684, 119.39773082733154)}"
            ]
          },
          "metadata": {
            "tags": []
          },
          "execution_count": 4
        }
      ]
    },
    {
      "cell_type": "code",
      "metadata": {
        "colab": {
          "base_uri": "https://localhost:8080/"
        },
        "id": "cxMRMzOoY7hN",
        "outputId": "a4481f37-0573-4bd0-da85-69f83886e26f"
      },
      "source": [
        "# SVDpp algorithm\n",
        "alg = SVDpp(reg_all=0.02)\n",
        "cross_validate(alg, data, measures=['RMSE', 'MAE'], cv=3, verbose=True)"
      ],
      "execution_count": 5,
      "outputs": [
        {
          "output_type": "stream",
          "text": [
            "Evaluating RMSE, MAE of algorithm SVDpp on 3 split(s).\n",
            "\n",
            "                  Fold 1  Fold 2  Fold 3  Mean    Std     \n",
            "RMSE (testset)    0.8736  0.8716  0.8699  0.8717  0.0015  \n",
            "MAE (testset)     0.6821  0.6799  0.6810  0.6810  0.0009  \n",
            "Fit time          2270.92 2260.09 2252.04 2261.02 7.74    \n",
            "Test time         120.84  118.33  119.49  119.55  1.03    \n"
          ],
          "name": "stdout"
        },
        {
          "output_type": "execute_result",
          "data": {
            "text/plain": [
              "{'fit_time': (2270.9197721481323, 2260.086724281311, 2252.0407009124756),\n",
              " 'test_mae': array([0.68213869, 0.67991373, 0.68100853]),\n",
              " 'test_rmse': array([0.87359785, 0.87158471, 0.86987088]),\n",
              " 'test_time': (120.83886623382568, 118.3258409500122, 119.4895441532135)}"
            ]
          },
          "metadata": {
            "tags": []
          },
          "execution_count": 5
        }
      ]
    },
    {
      "cell_type": "code",
      "metadata": {
        "colab": {
          "base_uri": "https://localhost:8080/"
        },
        "id": "IQB8C-G3ZAOm",
        "outputId": "49e85290-2adf-45d1-90b1-09a05419efd8"
      },
      "source": [
        "# SVDpp algorithm\n",
        "alg = SVDpp(n_factors=50, reg_all=0.1) \n",
        "cross_validate(alg, data, measures=['RMSE', 'MAE'], cv=3, verbose=True)"
      ],
      "execution_count": 4,
      "outputs": [
        {
          "output_type": "stream",
          "text": [
            "Evaluating RMSE, MAE of algorithm SVDpp on 3 split(s).\n",
            "\n",
            "                  Fold 1  Fold 2  Fold 3  Mean    Std     \n",
            "RMSE (testset)    0.8872  0.8870  0.8844  0.8862  0.0013  \n",
            "MAE (testset)     0.7029  0.7027  0.7004  0.7020  0.0012  \n",
            "Fit time          4155.06 4154.12 4158.41 4155.87 1.84    \n",
            "Test time         129.00  123.77  126.44  126.40  2.14    \n"
          ],
          "name": "stdout"
        },
        {
          "output_type": "execute_result",
          "data": {
            "text/plain": [
              "{'fit_time': (4155.058931350708, 4154.123807430267, 4158.412748336792),\n",
              " 'test_mae': array([0.702901  , 0.70274391, 0.70037008]),\n",
              " 'test_rmse': array([0.88717644, 0.88696729, 0.88440529]),\n",
              " 'test_time': (129.0019097328186, 123.7665364742279, 126.4362735748291)}"
            ]
          },
          "metadata": {
            "tags": []
          },
          "execution_count": 4
        }
      ]
    },
    {
      "cell_type": "code",
      "metadata": {
        "id": "zC_xIuxyZDDZ"
      },
      "source": [
        "# SVDpp algorithm\n",
        "alg = SVDpp(n_factors=200, reg_all=0.1)\n",
        "cross_validate(alg, data, measures=['RMSE', 'MAE'], cv=3, verbose=True)"
      ],
      "execution_count": null,
      "outputs": []
    },
    {
      "cell_type": "code",
      "metadata": {
        "id": "P7yXdlMsZXTH"
      },
      "source": [
        ""
      ],
      "execution_count": null,
      "outputs": []
    }
  ]
}